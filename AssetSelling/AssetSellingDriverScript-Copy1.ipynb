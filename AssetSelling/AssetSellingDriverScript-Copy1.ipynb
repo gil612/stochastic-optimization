{
 "cells": [
  {
   "cell_type": "markdown",
   "metadata": {},
   "source": [
    "# Asset Selling Driver Script\n",
    "This script is used to run the Asset Selling Model from Chapter 2 of W.B.Powell's book \"Sequential decision analytics and modeling\". It is based on the initial version from the repository referred in the book (https://github.com/wbpowell328/stochastic-optimization).\n",
    "\n",
    "The script reads in the parameters from an Excel file and then runs the model.\n",
    "\n",
    "### Read in parameters from Excel file"
   ]
  },
  {
   "cell_type": "code",
   "execution_count": 21,
   "metadata": {},
   "outputs": [
    {
     "name": "stdout",
     "output_type": "stream",
     "text": [
      "The autoreload extension is already loaded. To reload it, use:\n",
      "  %reload_ext autoreload\n"
     ]
    }
   ],
   "source": [
    "%load_ext autoreload\n",
    "%autoreload 2\n",
    "\n",
    "from collections import namedtuple\n",
    "import time\n",
    "import pandas as pd\n",
    "import numpy as np\n",
    "\n",
    "import plotly.express as px\n",
    "from plotly.subplots import make_subplots\n",
    "import plotly.graph_objects as go\n",
    "import plotly.io as pio\n",
    "\n",
    "pio.templates.default = \"seaborn\"\n",
    "\n",
    "from AssetSellingModel import AssetSellingModel\n",
    "from AssetSellingPolicy import AssetSellingPolicy\n",
    "\n",
    "# read in policy parameters from an Excel spreadsheet, \"asset_selling_policy_parameters.xlsx\"\n",
    "sheet1 = pd.read_excel(\"asset_selling_policy_parameters.xlsx\", sheet_name=\"Sheet1\")\n",
    "# theta values for the three policies\n",
    "params = zip(sheet1[\"param1\"], sheet1[\"param2\"])\n",
    "param_list = list(params)\n",
    "sheet2 = pd.read_excel(\"asset_selling_policy_parameters.xlsx\", sheet_name=\"Sheet2\")\n",
    "sheet3 = pd.read_excel(\"asset_selling_policy_parameters.xlsx\", sheet_name=\"Sheet3\")\n",
    "biasdf = pd.read_excel(\n",
    "    \"asset_selling_policy_parameters.xlsx\", sheet_name=\"Sheet4\", index_col=0\n",
    ")\n",
    "\n",
    "policy_selected = sheet3[\"Policy\"][0]\n",
    "T = sheet3[\"TimeHorizon\"][0]\n",
    "initPrice = sheet3[\"InitialPrice\"][0]\n",
    "initBias = sheet3[\"InitialBias\"][0]\n",
    "grid_search = False if sheet3[\"Evaluation\"][0] == \"single\" else True\n",
    "\n",
    "exog_params = {\n",
    "    \"UpStep\": sheet3[\"UpStep\"][0],\n",
    "    \"DownStep\": sheet3[\"DownStep\"][0],\n",
    "    \"Variance\": sheet3[\"Variance\"][0],\n",
    "    \"biasdf\": biasdf,\n",
    "}\n",
    "\n",
    "nIterations = sheet3[\"Iterations\"][0]"
   ]
  },
  {
   "cell_type": "markdown",
   "metadata": {},
   "source": [
    "### Run the model"
   ]
  },
  {
   "cell_type": "code",
   "execution_count": 22,
   "metadata": {},
   "outputs": [
    {
     "name": "stdout",
     "output_type": "stream",
     "text": [
      "Selected policy high_low, time horizon 100, initial price 16 and number of iterations 10\n",
      "Contribution per iteration: \n",
      "   objective  stopping time\n",
      "0  38.490092            100\n",
      "1   6.492939            100\n",
      "2   3.638744            100\n",
      "3  66.567903            100\n",
      "4   1.105618            100\n",
      "5  40.657028            100\n",
      "6  87.364135            100\n",
      "7   2.057562            100\n",
      "8  39.824136            100\n",
      "9   3.393173            100\n"
     ]
    },
    {
     "data": {
      "application/vnd.plotly.v1+json": {
       "config": {
        "plotlyServerURL": "https://plot.ly"
       },
       "data": [
        {
         "type": "histogram",
         "x": [
          38.490091572072515,
          6.492939428602991,
          3.638744128831071,
          66.56790329929883,
          1.1056178411646096,
          40.65702798605061,
          87.36413545184237,
          2.0575618394910187,
          39.82413577305354,
          3.3931733659417014
         ],
         "xaxis": "x",
         "yaxis": "y"
        },
        {
         "type": "histogram",
         "x": [
          100,
          100,
          100,
          100,
          100,
          100,
          100,
          100,
          100,
          100
         ],
         "xaxis": "x2",
         "yaxis": "y2"
        },
        {
         "mode": "markers",
         "type": "scatter",
         "x": [
          100,
          100,
          100,
          100,
          100,
          100,
          100,
          100,
          100,
          100
         ],
         "xaxis": "x3",
         "y": [
          38.490091572072515,
          6.492939428602991,
          3.638744128831071,
          66.56790329929883,
          1.1056178411646096,
          40.65702798605061,
          87.36413545184237,
          2.0575618394910187,
          39.82413577305354,
          3.3931733659417014
         ],
         "yaxis": "y3"
        }
       ],
       "layout": {
        "annotations": [
         {
          "font": {
           "size": 16
          },
          "showarrow": false,
          "text": "objective",
          "x": 0.225,
          "xanchor": "center",
          "xref": "paper",
          "y": 1,
          "yanchor": "bottom",
          "yref": "paper"
         },
         {
          "font": {
           "size": 16
          },
          "showarrow": false,
          "text": "stopping time",
          "x": 0.775,
          "xanchor": "center",
          "xref": "paper",
          "y": 1,
          "yanchor": "bottom",
          "yref": "paper"
         }
        ],
        "height": 600,
        "template": {
         "data": {
          "bar": [
           {
            "error_x": {
             "color": "rgb(36,36,36)"
            },
            "error_y": {
             "color": "rgb(36,36,36)"
            },
            "marker": {
             "line": {
              "color": "rgb(234,234,242)",
              "width": 0.5
             },
             "pattern": {
              "fillmode": "overlay",
              "size": 10,
              "solidity": 0.2
             }
            },
            "type": "bar"
           }
          ],
          "barpolar": [
           {
            "marker": {
             "line": {
              "color": "rgb(234,234,242)",
              "width": 0.5
             },
             "pattern": {
              "fillmode": "overlay",
              "size": 10,
              "solidity": 0.2
             }
            },
            "type": "barpolar"
           }
          ],
          "carpet": [
           {
            "aaxis": {
             "endlinecolor": "rgb(36,36,36)",
             "gridcolor": "white",
             "linecolor": "white",
             "minorgridcolor": "white",
             "startlinecolor": "rgb(36,36,36)"
            },
            "baxis": {
             "endlinecolor": "rgb(36,36,36)",
             "gridcolor": "white",
             "linecolor": "white",
             "minorgridcolor": "white",
             "startlinecolor": "rgb(36,36,36)"
            },
            "type": "carpet"
           }
          ],
          "choropleth": [
           {
            "colorbar": {
             "outlinewidth": 0,
             "tickcolor": "rgb(36,36,36)",
             "ticklen": 8,
             "ticks": "outside",
             "tickwidth": 2
            },
            "type": "choropleth"
           }
          ],
          "contour": [
           {
            "colorbar": {
             "outlinewidth": 0,
             "tickcolor": "rgb(36,36,36)",
             "ticklen": 8,
             "ticks": "outside",
             "tickwidth": 2
            },
            "colorscale": [
             [
              0,
              "rgb(2,4,25)"
             ],
             [
              0.06274509803921569,
              "rgb(24,15,41)"
             ],
             [
              0.12549019607843137,
              "rgb(47,23,57)"
             ],
             [
              0.18823529411764706,
              "rgb(71,28,72)"
             ],
             [
              0.25098039215686274,
              "rgb(97,30,82)"
             ],
             [
              0.3137254901960784,
              "rgb(123,30,89)"
             ],
             [
              0.3764705882352941,
              "rgb(150,27,91)"
             ],
             [
              0.4392156862745098,
              "rgb(177,22,88)"
             ],
             [
              0.5019607843137255,
              "rgb(203,26,79)"
             ],
             [
              0.5647058823529412,
              "rgb(223,47,67)"
             ],
             [
              0.6274509803921569,
              "rgb(236,76,61)"
             ],
             [
              0.6901960784313725,
              "rgb(242,107,73)"
             ],
             [
              0.7529411764705882,
              "rgb(244,135,95)"
             ],
             [
              0.8156862745098039,
              "rgb(245,162,122)"
             ],
             [
              0.8784313725490196,
              "rgb(246,188,153)"
             ],
             [
              0.9411764705882353,
              "rgb(247,212,187)"
             ],
             [
              1,
              "rgb(250,234,220)"
             ]
            ],
            "type": "contour"
           }
          ],
          "contourcarpet": [
           {
            "colorbar": {
             "outlinewidth": 0,
             "tickcolor": "rgb(36,36,36)",
             "ticklen": 8,
             "ticks": "outside",
             "tickwidth": 2
            },
            "type": "contourcarpet"
           }
          ],
          "heatmap": [
           {
            "colorbar": {
             "outlinewidth": 0,
             "tickcolor": "rgb(36,36,36)",
             "ticklen": 8,
             "ticks": "outside",
             "tickwidth": 2
            },
            "colorscale": [
             [
              0,
              "rgb(2,4,25)"
             ],
             [
              0.06274509803921569,
              "rgb(24,15,41)"
             ],
             [
              0.12549019607843137,
              "rgb(47,23,57)"
             ],
             [
              0.18823529411764706,
              "rgb(71,28,72)"
             ],
             [
              0.25098039215686274,
              "rgb(97,30,82)"
             ],
             [
              0.3137254901960784,
              "rgb(123,30,89)"
             ],
             [
              0.3764705882352941,
              "rgb(150,27,91)"
             ],
             [
              0.4392156862745098,
              "rgb(177,22,88)"
             ],
             [
              0.5019607843137255,
              "rgb(203,26,79)"
             ],
             [
              0.5647058823529412,
              "rgb(223,47,67)"
             ],
             [
              0.6274509803921569,
              "rgb(236,76,61)"
             ],
             [
              0.6901960784313725,
              "rgb(242,107,73)"
             ],
             [
              0.7529411764705882,
              "rgb(244,135,95)"
             ],
             [
              0.8156862745098039,
              "rgb(245,162,122)"
             ],
             [
              0.8784313725490196,
              "rgb(246,188,153)"
             ],
             [
              0.9411764705882353,
              "rgb(247,212,187)"
             ],
             [
              1,
              "rgb(250,234,220)"
             ]
            ],
            "type": "heatmap"
           }
          ],
          "heatmapgl": [
           {
            "colorbar": {
             "outlinewidth": 0,
             "tickcolor": "rgb(36,36,36)",
             "ticklen": 8,
             "ticks": "outside",
             "tickwidth": 2
            },
            "colorscale": [
             [
              0,
              "rgb(2,4,25)"
             ],
             [
              0.06274509803921569,
              "rgb(24,15,41)"
             ],
             [
              0.12549019607843137,
              "rgb(47,23,57)"
             ],
             [
              0.18823529411764706,
              "rgb(71,28,72)"
             ],
             [
              0.25098039215686274,
              "rgb(97,30,82)"
             ],
             [
              0.3137254901960784,
              "rgb(123,30,89)"
             ],
             [
              0.3764705882352941,
              "rgb(150,27,91)"
             ],
             [
              0.4392156862745098,
              "rgb(177,22,88)"
             ],
             [
              0.5019607843137255,
              "rgb(203,26,79)"
             ],
             [
              0.5647058823529412,
              "rgb(223,47,67)"
             ],
             [
              0.6274509803921569,
              "rgb(236,76,61)"
             ],
             [
              0.6901960784313725,
              "rgb(242,107,73)"
             ],
             [
              0.7529411764705882,
              "rgb(244,135,95)"
             ],
             [
              0.8156862745098039,
              "rgb(245,162,122)"
             ],
             [
              0.8784313725490196,
              "rgb(246,188,153)"
             ],
             [
              0.9411764705882353,
              "rgb(247,212,187)"
             ],
             [
              1,
              "rgb(250,234,220)"
             ]
            ],
            "type": "heatmapgl"
           }
          ],
          "histogram": [
           {
            "marker": {
             "pattern": {
              "fillmode": "overlay",
              "size": 10,
              "solidity": 0.2
             }
            },
            "type": "histogram"
           }
          ],
          "histogram2d": [
           {
            "colorbar": {
             "outlinewidth": 0,
             "tickcolor": "rgb(36,36,36)",
             "ticklen": 8,
             "ticks": "outside",
             "tickwidth": 2
            },
            "colorscale": [
             [
              0,
              "rgb(2,4,25)"
             ],
             [
              0.06274509803921569,
              "rgb(24,15,41)"
             ],
             [
              0.12549019607843137,
              "rgb(47,23,57)"
             ],
             [
              0.18823529411764706,
              "rgb(71,28,72)"
             ],
             [
              0.25098039215686274,
              "rgb(97,30,82)"
             ],
             [
              0.3137254901960784,
              "rgb(123,30,89)"
             ],
             [
              0.3764705882352941,
              "rgb(150,27,91)"
             ],
             [
              0.4392156862745098,
              "rgb(177,22,88)"
             ],
             [
              0.5019607843137255,
              "rgb(203,26,79)"
             ],
             [
              0.5647058823529412,
              "rgb(223,47,67)"
             ],
             [
              0.6274509803921569,
              "rgb(236,76,61)"
             ],
             [
              0.6901960784313725,
              "rgb(242,107,73)"
             ],
             [
              0.7529411764705882,
              "rgb(244,135,95)"
             ],
             [
              0.8156862745098039,
              "rgb(245,162,122)"
             ],
             [
              0.8784313725490196,
              "rgb(246,188,153)"
             ],
             [
              0.9411764705882353,
              "rgb(247,212,187)"
             ],
             [
              1,
              "rgb(250,234,220)"
             ]
            ],
            "type": "histogram2d"
           }
          ],
          "histogram2dcontour": [
           {
            "colorbar": {
             "outlinewidth": 0,
             "tickcolor": "rgb(36,36,36)",
             "ticklen": 8,
             "ticks": "outside",
             "tickwidth": 2
            },
            "colorscale": [
             [
              0,
              "rgb(2,4,25)"
             ],
             [
              0.06274509803921569,
              "rgb(24,15,41)"
             ],
             [
              0.12549019607843137,
              "rgb(47,23,57)"
             ],
             [
              0.18823529411764706,
              "rgb(71,28,72)"
             ],
             [
              0.25098039215686274,
              "rgb(97,30,82)"
             ],
             [
              0.3137254901960784,
              "rgb(123,30,89)"
             ],
             [
              0.3764705882352941,
              "rgb(150,27,91)"
             ],
             [
              0.4392156862745098,
              "rgb(177,22,88)"
             ],
             [
              0.5019607843137255,
              "rgb(203,26,79)"
             ],
             [
              0.5647058823529412,
              "rgb(223,47,67)"
             ],
             [
              0.6274509803921569,
              "rgb(236,76,61)"
             ],
             [
              0.6901960784313725,
              "rgb(242,107,73)"
             ],
             [
              0.7529411764705882,
              "rgb(244,135,95)"
             ],
             [
              0.8156862745098039,
              "rgb(245,162,122)"
             ],
             [
              0.8784313725490196,
              "rgb(246,188,153)"
             ],
             [
              0.9411764705882353,
              "rgb(247,212,187)"
             ],
             [
              1,
              "rgb(250,234,220)"
             ]
            ],
            "type": "histogram2dcontour"
           }
          ],
          "mesh3d": [
           {
            "colorbar": {
             "outlinewidth": 0,
             "tickcolor": "rgb(36,36,36)",
             "ticklen": 8,
             "ticks": "outside",
             "tickwidth": 2
            },
            "type": "mesh3d"
           }
          ],
          "parcoords": [
           {
            "line": {
             "colorbar": {
              "outlinewidth": 0,
              "tickcolor": "rgb(36,36,36)",
              "ticklen": 8,
              "ticks": "outside",
              "tickwidth": 2
             }
            },
            "type": "parcoords"
           }
          ],
          "pie": [
           {
            "automargin": true,
            "type": "pie"
           }
          ],
          "scatter": [
           {
            "fillpattern": {
             "fillmode": "overlay",
             "size": 10,
             "solidity": 0.2
            },
            "type": "scatter"
           }
          ],
          "scatter3d": [
           {
            "line": {
             "colorbar": {
              "outlinewidth": 0,
              "tickcolor": "rgb(36,36,36)",
              "ticklen": 8,
              "ticks": "outside",
              "tickwidth": 2
             }
            },
            "marker": {
             "colorbar": {
              "outlinewidth": 0,
              "tickcolor": "rgb(36,36,36)",
              "ticklen": 8,
              "ticks": "outside",
              "tickwidth": 2
             }
            },
            "type": "scatter3d"
           }
          ],
          "scattercarpet": [
           {
            "marker": {
             "colorbar": {
              "outlinewidth": 0,
              "tickcolor": "rgb(36,36,36)",
              "ticklen": 8,
              "ticks": "outside",
              "tickwidth": 2
             }
            },
            "type": "scattercarpet"
           }
          ],
          "scattergeo": [
           {
            "marker": {
             "colorbar": {
              "outlinewidth": 0,
              "tickcolor": "rgb(36,36,36)",
              "ticklen": 8,
              "ticks": "outside",
              "tickwidth": 2
             }
            },
            "type": "scattergeo"
           }
          ],
          "scattergl": [
           {
            "marker": {
             "colorbar": {
              "outlinewidth": 0,
              "tickcolor": "rgb(36,36,36)",
              "ticklen": 8,
              "ticks": "outside",
              "tickwidth": 2
             }
            },
            "type": "scattergl"
           }
          ],
          "scattermapbox": [
           {
            "marker": {
             "colorbar": {
              "outlinewidth": 0,
              "tickcolor": "rgb(36,36,36)",
              "ticklen": 8,
              "ticks": "outside",
              "tickwidth": 2
             }
            },
            "type": "scattermapbox"
           }
          ],
          "scatterpolar": [
           {
            "marker": {
             "colorbar": {
              "outlinewidth": 0,
              "tickcolor": "rgb(36,36,36)",
              "ticklen": 8,
              "ticks": "outside",
              "tickwidth": 2
             }
            },
            "type": "scatterpolar"
           }
          ],
          "scatterpolargl": [
           {
            "marker": {
             "colorbar": {
              "outlinewidth": 0,
              "tickcolor": "rgb(36,36,36)",
              "ticklen": 8,
              "ticks": "outside",
              "tickwidth": 2
             }
            },
            "type": "scatterpolargl"
           }
          ],
          "scatterternary": [
           {
            "marker": {
             "colorbar": {
              "outlinewidth": 0,
              "tickcolor": "rgb(36,36,36)",
              "ticklen": 8,
              "ticks": "outside",
              "tickwidth": 2
             }
            },
            "type": "scatterternary"
           }
          ],
          "surface": [
           {
            "colorbar": {
             "outlinewidth": 0,
             "tickcolor": "rgb(36,36,36)",
             "ticklen": 8,
             "ticks": "outside",
             "tickwidth": 2
            },
            "colorscale": [
             [
              0,
              "rgb(2,4,25)"
             ],
             [
              0.06274509803921569,
              "rgb(24,15,41)"
             ],
             [
              0.12549019607843137,
              "rgb(47,23,57)"
             ],
             [
              0.18823529411764706,
              "rgb(71,28,72)"
             ],
             [
              0.25098039215686274,
              "rgb(97,30,82)"
             ],
             [
              0.3137254901960784,
              "rgb(123,30,89)"
             ],
             [
              0.3764705882352941,
              "rgb(150,27,91)"
             ],
             [
              0.4392156862745098,
              "rgb(177,22,88)"
             ],
             [
              0.5019607843137255,
              "rgb(203,26,79)"
             ],
             [
              0.5647058823529412,
              "rgb(223,47,67)"
             ],
             [
              0.6274509803921569,
              "rgb(236,76,61)"
             ],
             [
              0.6901960784313725,
              "rgb(242,107,73)"
             ],
             [
              0.7529411764705882,
              "rgb(244,135,95)"
             ],
             [
              0.8156862745098039,
              "rgb(245,162,122)"
             ],
             [
              0.8784313725490196,
              "rgb(246,188,153)"
             ],
             [
              0.9411764705882353,
              "rgb(247,212,187)"
             ],
             [
              1,
              "rgb(250,234,220)"
             ]
            ],
            "type": "surface"
           }
          ],
          "table": [
           {
            "cells": {
             "fill": {
              "color": "rgb(231,231,240)"
             },
             "line": {
              "color": "white"
             }
            },
            "header": {
             "fill": {
              "color": "rgb(183,183,191)"
             },
             "line": {
              "color": "white"
             }
            },
            "type": "table"
           }
          ]
         },
         "layout": {
          "annotationdefaults": {
           "arrowcolor": "rgb(67,103,167)"
          },
          "autotypenumbers": "strict",
          "coloraxis": {
           "colorbar": {
            "outlinewidth": 0,
            "tickcolor": "rgb(36,36,36)",
            "ticklen": 8,
            "ticks": "outside",
            "tickwidth": 2
           }
          },
          "colorscale": {
           "sequential": [
            [
             0,
             "rgb(2,4,25)"
            ],
            [
             0.06274509803921569,
             "rgb(24,15,41)"
            ],
            [
             0.12549019607843137,
             "rgb(47,23,57)"
            ],
            [
             0.18823529411764706,
             "rgb(71,28,72)"
            ],
            [
             0.25098039215686274,
             "rgb(97,30,82)"
            ],
            [
             0.3137254901960784,
             "rgb(123,30,89)"
            ],
            [
             0.3764705882352941,
             "rgb(150,27,91)"
            ],
            [
             0.4392156862745098,
             "rgb(177,22,88)"
            ],
            [
             0.5019607843137255,
             "rgb(203,26,79)"
            ],
            [
             0.5647058823529412,
             "rgb(223,47,67)"
            ],
            [
             0.6274509803921569,
             "rgb(236,76,61)"
            ],
            [
             0.6901960784313725,
             "rgb(242,107,73)"
            ],
            [
             0.7529411764705882,
             "rgb(244,135,95)"
            ],
            [
             0.8156862745098039,
             "rgb(245,162,122)"
            ],
            [
             0.8784313725490196,
             "rgb(246,188,153)"
            ],
            [
             0.9411764705882353,
             "rgb(247,212,187)"
            ],
            [
             1,
             "rgb(250,234,220)"
            ]
           ],
           "sequentialminus": [
            [
             0,
             "rgb(2,4,25)"
            ],
            [
             0.06274509803921569,
             "rgb(24,15,41)"
            ],
            [
             0.12549019607843137,
             "rgb(47,23,57)"
            ],
            [
             0.18823529411764706,
             "rgb(71,28,72)"
            ],
            [
             0.25098039215686274,
             "rgb(97,30,82)"
            ],
            [
             0.3137254901960784,
             "rgb(123,30,89)"
            ],
            [
             0.3764705882352941,
             "rgb(150,27,91)"
            ],
            [
             0.4392156862745098,
             "rgb(177,22,88)"
            ],
            [
             0.5019607843137255,
             "rgb(203,26,79)"
            ],
            [
             0.5647058823529412,
             "rgb(223,47,67)"
            ],
            [
             0.6274509803921569,
             "rgb(236,76,61)"
            ],
            [
             0.6901960784313725,
             "rgb(242,107,73)"
            ],
            [
             0.7529411764705882,
             "rgb(244,135,95)"
            ],
            [
             0.8156862745098039,
             "rgb(245,162,122)"
            ],
            [
             0.8784313725490196,
             "rgb(246,188,153)"
            ],
            [
             0.9411764705882353,
             "rgb(247,212,187)"
            ],
            [
             1,
             "rgb(250,234,220)"
            ]
           ]
          },
          "colorway": [
           "rgb(76,114,176)",
           "rgb(221,132,82)",
           "rgb(85,168,104)",
           "rgb(196,78,82)",
           "rgb(129,114,179)",
           "rgb(147,120,96)",
           "rgb(218,139,195)",
           "rgb(140,140,140)",
           "rgb(204,185,116)",
           "rgb(100,181,205)"
          ],
          "font": {
           "color": "rgb(36,36,36)"
          },
          "geo": {
           "bgcolor": "white",
           "lakecolor": "white",
           "landcolor": "rgb(234,234,242)",
           "showlakes": true,
           "showland": true,
           "subunitcolor": "white"
          },
          "hoverlabel": {
           "align": "left"
          },
          "hovermode": "closest",
          "paper_bgcolor": "white",
          "plot_bgcolor": "rgb(234,234,242)",
          "polar": {
           "angularaxis": {
            "gridcolor": "white",
            "linecolor": "white",
            "showgrid": true,
            "ticks": ""
           },
           "bgcolor": "rgb(234,234,242)",
           "radialaxis": {
            "gridcolor": "white",
            "linecolor": "white",
            "showgrid": true,
            "ticks": ""
           }
          },
          "scene": {
           "xaxis": {
            "backgroundcolor": "rgb(234,234,242)",
            "gridcolor": "white",
            "gridwidth": 2,
            "linecolor": "white",
            "showbackground": true,
            "showgrid": true,
            "ticks": "",
            "zerolinecolor": "white"
           },
           "yaxis": {
            "backgroundcolor": "rgb(234,234,242)",
            "gridcolor": "white",
            "gridwidth": 2,
            "linecolor": "white",
            "showbackground": true,
            "showgrid": true,
            "ticks": "",
            "zerolinecolor": "white"
           },
           "zaxis": {
            "backgroundcolor": "rgb(234,234,242)",
            "gridcolor": "white",
            "gridwidth": 2,
            "linecolor": "white",
            "showbackground": true,
            "showgrid": true,
            "ticks": "",
            "zerolinecolor": "white"
           }
          },
          "shapedefaults": {
           "fillcolor": "rgb(67,103,167)",
           "line": {
            "width": 0
           },
           "opacity": 0.5
          },
          "ternary": {
           "aaxis": {
            "gridcolor": "white",
            "linecolor": "white",
            "showgrid": true,
            "ticks": ""
           },
           "baxis": {
            "gridcolor": "white",
            "linecolor": "white",
            "showgrid": true,
            "ticks": ""
           },
           "bgcolor": "rgb(234,234,242)",
           "caxis": {
            "gridcolor": "white",
            "linecolor": "white",
            "showgrid": true,
            "ticks": ""
           }
          },
          "xaxis": {
           "automargin": true,
           "gridcolor": "white",
           "linecolor": "white",
           "showgrid": true,
           "ticks": "",
           "title": {
            "standoff": 15
           },
           "zerolinecolor": "white"
          },
          "yaxis": {
           "automargin": true,
           "gridcolor": "white",
           "linecolor": "white",
           "showgrid": true,
           "ticks": "",
           "title": {
            "standoff": 15
           },
           "zerolinecolor": "white"
          }
         }
        },
        "title": {
         "text": "Distribution of objectives and stopping times"
        },
        "width": 800,
        "xaxis": {
         "anchor": "y",
         "domain": [
          0,
          0.45
         ]
        },
        "xaxis2": {
         "anchor": "y2",
         "domain": [
          0.55,
          1
         ]
        },
        "xaxis3": {
         "anchor": "y3",
         "domain": [
          0,
          0.45
         ],
         "title": {
          "text": "Stopping time"
         }
        },
        "xaxis4": {
         "anchor": "y4",
         "domain": [
          0.55,
          1
         ]
        },
        "yaxis": {
         "anchor": "x",
         "domain": [
          0.625,
          1
         ]
        },
        "yaxis2": {
         "anchor": "x2",
         "domain": [
          0.625,
          1
         ]
        },
        "yaxis3": {
         "anchor": "x3",
         "domain": [
          0,
          0.375
         ],
         "title": {
          "text": "Objective"
         }
        },
        "yaxis4": {
         "anchor": "x4",
         "domain": [
          0,
          0.375
         ]
        }
       }
      }
     },
     "metadata": {},
     "output_type": "display_data"
    },
    {
     "name": "stdout",
     "output_type": "stream",
     "text": [
      "0.8865141868591309 secs\n"
     ]
    }
   ],
   "source": [
    "# initialize the model and the policy\n",
    "policy_names = [\"sell_low\", \"high_low\", \"track\"]\n",
    "state_names = [\"price\", \"price_smoothed\", \"resource\", \"bias\"]\n",
    "init_state = {\n",
    "    \"price\": initPrice,\n",
    "    \"price_smoothed\": initPrice,\n",
    "    \"resource\": 1,\n",
    "    \"bias\": initBias,\n",
    "}\n",
    "decision_names = [\"sell\", \"hold\"]\n",
    "\n",
    "M = AssetSellingModel(state_names, decision_names, init_state, exog_params, T)\n",
    "P = AssetSellingPolicy(M, policy_names)\n",
    "t = 0\n",
    "\n",
    "# make a policy_info dict object to pass policy-specific parameters\n",
    "policy_info = {\n",
    "    \"sell_low\": param_list[0],\n",
    "    \"high_low\": param_list[1],\n",
    "    \"track\": param_list[2],\n",
    "}\n",
    "\n",
    "start = time.time()\n",
    "print(\n",
    "    \"Selected policy {}, time horizon {}, initial price {} and number of iterations {}\".format(\n",
    "        policy_selected, T, initPrice, nIterations\n",
    "    )\n",
    ")\n",
    "\n",
    "# Evaluate one of the policies for one value of theta\n",
    "if grid_search == False:\n",
    "    contribution_iterations = []\n",
    "    state_histories = []\n",
    "    for i in range(nIterations):\n",
    "        contribution, t_stop, state_history = P.run_policy(\n",
    "            policy_info, policy_selected, t\n",
    "        )\n",
    "        contribution_iterations.append((contribution, t_stop))\n",
    "        state_history[\"iteration\"] = i\n",
    "        state_histories.append(state_history)\n",
    "\n",
    "    contribution_iterations = pd.DataFrame(\n",
    "        contribution_iterations, columns=[\"objective\", \"stopping time\"]\n",
    "    )\n",
    "    state_histories = pd.concat(state_histories)\n",
    "\n",
    "    print(\"Contribution per iteration: \")\n",
    "    print(contribution_iterations)\n",
    "\n",
    "    fig = make_subplots(rows=2, cols=2, subplot_titles=[\"objective\", \"stopping time\"])\n",
    "\n",
    "    fig.add_trace(\n",
    "        go.Histogram(x=contribution_iterations[\"objective\"]),\n",
    "        row=1,\n",
    "        col=1,\n",
    "    )\n",
    "\n",
    "    fig.add_trace(\n",
    "        go.Histogram(x=contribution_iterations[\"stopping time\"]), row=1, col=2\n",
    "    )\n",
    "\n",
    "    fig.add_trace(\n",
    "        go.Scatter(\n",
    "            x=contribution_iterations[\"stopping time\"],\n",
    "            y=contribution_iterations[\"objective\"],\n",
    "            mode=\"markers\",\n",
    "        ),\n",
    "        row=2,\n",
    "        col=1,\n",
    "    )\n",
    "    fig[\"layout\"][\"xaxis3\"][\"title\"] = \"Stopping time\"\n",
    "    fig[\"layout\"][\"yaxis3\"][\"title\"] = \"Objective\"\n",
    "\n",
    "    fig.update_layout(\n",
    "        height=600,\n",
    "        width=800,\n",
    "        title_text=\"Distribution of objectives and stopping times\",\n",
    "    )\n",
    "    fig.show()\n",
    "\n",
    "else:\n",
    "    # Run a grid-search procedure for the selected policy\n",
    "\n",
    "    # Get the theta values to carry out a full grid search\n",
    "    theta_values, theta_high_values, theta_low_values = P.grid_search_theta_values(\n",
    "        policy_selected,\n",
    "        sheet2[\"low_min\"][0],\n",
    "        sheet2[\"low_max\"][0],\n",
    "        sheet2[\"high_min\"][0],\n",
    "        sheet2[\"high_max\"][0],\n",
    "        sheet2[\"track_min\"][0],\n",
    "        sheet2[\"track_max\"][0],\n",
    "        sheet2[\"increment_size\"][0],\n",
    "    )\n",
    "    # use those theta values to calculate corresponding contribution values\n",
    "\n",
    "    contribution_iterations = [\n",
    "        P.vary_theta(policy_info, policy_selected, t, theta_values)\n",
    "        for ite in list(range(nIterations))\n",
    "    ]\n",
    "\n",
    "    contribution_iterations = np.array(contribution_iterations)\n",
    "    contribution_avgs = contribution_iterations.mean(axis=0)\n",
    "\n",
    "    if policy_selected == \"high_low\":\n",
    "        # plot average contributions of theta values on a heat map\n",
    "        contribution_matrix = np.reshape(\n",
    "            contribution_avgs[:, 0], (len(theta_low_values), -1)\n",
    "        )\n",
    "        fig = px.imshow(\n",
    "            contribution_matrix,\n",
    "            labels={\"x\": \"theta_high\", \"y\": \"theta_low\"},\n",
    "            x=theta_high_values,\n",
    "            y=theta_low_values,\n",
    "        )\n",
    "        fig.show()\n",
    "    else:\n",
    "        # plot average contributions of theta values in a line graph\n",
    "        fig = px.line(x=theta_low_values, y=contribution_avgs[:, 0])\n",
    "        fig.show()\n",
    "\n",
    "end = time.time()\n",
    "print(\"{} secs\".format(end - start))"
   ]
  },
  {
   "cell_type": "code",
   "execution_count": 23,
   "metadata": {},
   "outputs": [
    {
     "data": {
      "text/html": [
       "<div>\n",
       "<style scoped>\n",
       "    .dataframe tbody tr th:only-of-type {\n",
       "        vertical-align: middle;\n",
       "    }\n",
       "\n",
       "    .dataframe tbody tr th {\n",
       "        vertical-align: top;\n",
       "    }\n",
       "\n",
       "    .dataframe thead th {\n",
       "        text-align: right;\n",
       "    }\n",
       "</style>\n",
       "<table border=\"1\" class=\"dataframe\">\n",
       "  <thead>\n",
       "    <tr style=\"text-align: right;\">\n",
       "      <th></th>\n",
       "      <th>t</th>\n",
       "      <th>price</th>\n",
       "      <th>price_smoothed</th>\n",
       "      <th>resource</th>\n",
       "      <th>bias</th>\n",
       "      <th>iteration</th>\n",
       "    </tr>\n",
       "  </thead>\n",
       "  <tbody>\n",
       "    <tr>\n",
       "      <th>0</th>\n",
       "      <td>0</td>\n",
       "      <td>16.000000</td>\n",
       "      <td>16.000000</td>\n",
       "      <td>1</td>\n",
       "      <td>Up</td>\n",
       "      <td>0</td>\n",
       "    </tr>\n",
       "    <tr>\n",
       "      <th>1</th>\n",
       "      <td>1</td>\n",
       "      <td>14.920032</td>\n",
       "      <td>15.244022</td>\n",
       "      <td>1</td>\n",
       "      <td>Up</td>\n",
       "      <td>0</td>\n",
       "    </tr>\n",
       "    <tr>\n",
       "      <th>2</th>\n",
       "      <td>2</td>\n",
       "      <td>17.801161</td>\n",
       "      <td>17.034020</td>\n",
       "      <td>1</td>\n",
       "      <td>Up</td>\n",
       "      <td>0</td>\n",
       "    </tr>\n",
       "    <tr>\n",
       "      <th>3</th>\n",
       "      <td>3</td>\n",
       "      <td>16.196802</td>\n",
       "      <td>16.447967</td>\n",
       "      <td>1</td>\n",
       "      <td>Up</td>\n",
       "      <td>0</td>\n",
       "    </tr>\n",
       "    <tr>\n",
       "      <th>4</th>\n",
       "      <td>4</td>\n",
       "      <td>16.564317</td>\n",
       "      <td>16.529412</td>\n",
       "      <td>1</td>\n",
       "      <td>Up</td>\n",
       "      <td>0</td>\n",
       "    </tr>\n",
       "    <tr>\n",
       "      <th>...</th>\n",
       "      <td>...</td>\n",
       "      <td>...</td>\n",
       "      <td>...</td>\n",
       "      <td>...</td>\n",
       "      <td>...</td>\n",
       "      <td>...</td>\n",
       "    </tr>\n",
       "    <tr>\n",
       "      <th>96</th>\n",
       "      <td>96</td>\n",
       "      <td>0.000000</td>\n",
       "      <td>0.001329</td>\n",
       "      <td>1</td>\n",
       "      <td>Down</td>\n",
       "      <td>9</td>\n",
       "    </tr>\n",
       "    <tr>\n",
       "      <th>97</th>\n",
       "      <td>97</td>\n",
       "      <td>0.593088</td>\n",
       "      <td>0.415560</td>\n",
       "      <td>1</td>\n",
       "      <td>Down</td>\n",
       "      <td>9</td>\n",
       "    </tr>\n",
       "    <tr>\n",
       "      <th>98</th>\n",
       "      <td>98</td>\n",
       "      <td>0.000000</td>\n",
       "      <td>0.124668</td>\n",
       "      <td>1</td>\n",
       "      <td>Down</td>\n",
       "      <td>9</td>\n",
       "    </tr>\n",
       "    <tr>\n",
       "      <th>99</th>\n",
       "      <td>99</td>\n",
       "      <td>3.393173</td>\n",
       "      <td>2.412622</td>\n",
       "      <td>1</td>\n",
       "      <td>Neutral</td>\n",
       "      <td>9</td>\n",
       "    </tr>\n",
       "    <tr>\n",
       "      <th>100</th>\n",
       "      <td>100</td>\n",
       "      <td>4.932887</td>\n",
       "      <td>4.176808</td>\n",
       "      <td>0</td>\n",
       "      <td>Neutral</td>\n",
       "      <td>9</td>\n",
       "    </tr>\n",
       "  </tbody>\n",
       "</table>\n",
       "<p>1010 rows × 6 columns</p>\n",
       "</div>"
      ],
      "text/plain": [
       "       t      price  price_smoothed  resource     bias  iteration\n",
       "0      0  16.000000       16.000000         1       Up          0\n",
       "1      1  14.920032       15.244022         1       Up          0\n",
       "2      2  17.801161       17.034020         1       Up          0\n",
       "3      3  16.196802       16.447967         1       Up          0\n",
       "4      4  16.564317       16.529412         1       Up          0\n",
       "..   ...        ...             ...       ...      ...        ...\n",
       "96    96   0.000000        0.001329         1     Down          9\n",
       "97    97   0.593088        0.415560         1     Down          9\n",
       "98    98   0.000000        0.124668         1     Down          9\n",
       "99    99   3.393173        2.412622         1  Neutral          9\n",
       "100  100   4.932887        4.176808         0  Neutral          9\n",
       "\n",
       "[1010 rows x 6 columns]"
      ]
     },
     "execution_count": 23,
     "metadata": {},
     "output_type": "execute_result"
    }
   ],
   "source": [
    "state_histories"
   ]
  },
  {
   "cell_type": "code",
   "execution_count": 25,
   "metadata": {},
   "outputs": [
    {
     "data": {
      "application/vnd.plotly.v1+json": {
       "config": {
        "plotlyServerURL": "https://plot.ly"
       },
       "data": [
        {
         "hovertemplate": "variable=price<br>iteration=0<br>t=%{x}<br>value=%{y}<extra></extra>",
         "legendgroup": "price",
         "line": {
          "color": "rgb(76,114,176)",
          "dash": "solid"
         },
         "marker": {
          "symbol": "circle"
         },
         "mode": "lines",
         "name": "price",
         "showlegend": true,
         "type": "scattergl",
         "x": [
          0,
          1,
          2,
          3,
          4,
          5,
          6,
          7,
          8,
          9,
          10,
          11,
          12,
          13,
          14,
          15,
          16,
          17,
          18,
          19,
          20,
          21,
          22,
          23,
          24,
          25,
          26,
          27,
          28,
          29,
          30,
          31,
          32,
          33,
          34,
          35,
          36,
          37,
          38,
          39,
          40,
          41,
          42,
          43,
          44,
          45,
          46,
          47,
          48,
          49,
          50,
          51,
          52,
          53,
          54,
          55,
          56,
          57,
          58,
          59,
          60,
          61,
          62,
          63,
          64,
          65,
          66,
          67,
          68,
          69,
          70,
          71,
          72,
          73,
          74,
          75,
          76,
          77,
          78,
          79,
          80,
          81,
          82,
          83,
          84,
          85,
          86,
          87,
          88,
          89,
          90,
          91,
          92,
          93,
          94,
          95,
          96,
          97,
          98,
          99,
          100
         ],
         "xaxis": "x10",
         "y": [
          16,
          14.920031787519008,
          17.801161220301434,
          16.1968022065768,
          16.564317021889632,
          15.858229166742472,
          18.41381303760037,
          21.668295451536437,
          20.949710525769962,
          20.031945324111966,
          20.93209350213946,
          20.570234413331576,
          20.26117544919397,
          19.55690834821751,
          20.28779647694567,
          22.149438482961436,
          22.336608450192205,
          21.70906299369645,
          24.967007579138233,
          24.286694625213176,
          26.58788020086258,
          28.674188737472967,
          30.138511383606406,
          31.575888577064433,
          33.0230796746138,
          34.15823781359158,
          36.42081426526866,
          36.78147183255406,
          36.503716136067375,
          40.493598758536166,
          43.430155467719125,
          43.76038540774758,
          45.93283007046613,
          48.51952454086598,
          48.594820955536846,
          49.21221230577362,
          47.94563787776666,
          49.93995936587419,
          52.32093007400972,
          53.638009456163154,
          54.01931637672268,
          53.69546449458937,
          53.93198870659271,
          55.905933668163875,
          56.93092190561925,
          58.823984257679136,
          59.62701328866029,
          60.46757686684749,
          58.573351922001315,
          57.57885826679835,
          55.76790015607823,
          58.36635675165036,
          59.84138788858453,
          59.43051277284927,
          59.75244662104814,
          57.297805774663445,
          58.773276979328,
          56.8811612705511,
          56.82217585242349,
          57.86588014347038,
          58.38716888852433,
          59.74572015843696,
          63.464095308917834,
          65.17783742721686,
          63.800311318571154,
          62.947159435760106,
          61.19378714064749,
          61.74934174644994,
          59.71818358403486,
          61.394436719823624,
          67.22216165183828,
          64.24308541177454,
          63.77850833646222,
          61.947793816102845,
          60.66621204327007,
          59.98030917816076,
          56.909001672509135,
          54.93638585436247,
          54.49775938826532,
          53.75830843121109,
          51.759717234132786,
          48.82948370966804,
          52.08642317453837,
          52.763401582011056,
          53.62654760775955,
          52.31327181244337,
          50.003696421584586,
          48.09372946090303,
          44.53785431226379,
          46.69603682508466,
          45.4587601728649,
          47.07076365627855,
          45.24890919461107,
          45.1064220715343,
          44.47289094597811,
          40.73657254748678,
          43.18390398905338,
          41.4175293467814,
          38.203437982694425,
          38.490091572072515,
          37.479847838632374
         ],
         "yaxis": "y10"
        },
        {
         "hovertemplate": "variable=price<br>iteration=1<br>t=%{x}<br>value=%{y}<extra></extra>",
         "legendgroup": "price",
         "line": {
          "color": "rgb(76,114,176)",
          "dash": "solid"
         },
         "marker": {
          "symbol": "circle"
         },
         "mode": "lines",
         "name": "price",
         "showlegend": false,
         "type": "scattergl",
         "x": [
          0,
          1,
          2,
          3,
          4,
          5,
          6,
          7,
          8,
          9,
          10,
          11,
          12,
          13,
          14,
          15,
          16,
          17,
          18,
          19,
          20,
          21,
          22,
          23,
          24,
          25,
          26,
          27,
          28,
          29,
          30,
          31,
          32,
          33,
          34,
          35,
          36,
          37,
          38,
          39,
          40,
          41,
          42,
          43,
          44,
          45,
          46,
          47,
          48,
          49,
          50,
          51,
          52,
          53,
          54,
          55,
          56,
          57,
          58,
          59,
          60,
          61,
          62,
          63,
          64,
          65,
          66,
          67,
          68,
          69,
          70,
          71,
          72,
          73,
          74,
          75,
          76,
          77,
          78,
          79,
          80,
          81,
          82,
          83,
          84,
          85,
          86,
          87,
          88,
          89,
          90,
          91,
          92,
          93,
          94,
          95,
          96,
          97,
          98,
          99,
          100
         ],
         "xaxis": "x9",
         "y": [
          16,
          17.675149097597867,
          18.85631891140136,
          15.755974709339315,
          15.069514168753573,
          14.313209434896072,
          17.145014519608097,
          18.206277504796933,
          20.18330587969546,
          20.52795969097154,
          22.60419056497939,
          22.295179206479588,
          20.84746157271859,
          20.20060828962601,
          19.381587852881758,
          23.4165359279496,
          20.71004922683196,
          16.78316522315795,
          16.41437523033863,
          13.956207554851414,
          8.661629495374104,
          5.536800671654978,
          8.958884592839324,
          6.205163036504147,
          1.6897062537908845,
          4.948200477847481,
          1.7546293209382013,
          6.564763659419015,
          5.828265745842954,
          10.285661034654138,
          10.795105342769919,
          11.664637491703155,
          11.396991562671072,
          11.920644074721741,
          13.384983853974253,
          15.328060899064532,
          16.638919554401465,
          17.7452302495572,
          17.302114182471506,
          18.107540985644526,
          22.25425079059501,
          21.728136371205473,
          23.250451805021786,
          26.632737711199518,
          28.59302451798274,
          31.4479014810991,
          29.227040112270146,
          28.754474520983184,
          27.170132149376073,
          25.666177392962304,
          27.609161338948617,
          26.13546080992925,
          25.72744878930345,
          21.214005224346284,
          23.668705652674653,
          24.39636168007103,
          23.273712988413337,
          21.604800643701584,
          21.770111127676998,
          23.124934905632387,
          25.61280395796797,
          26.268780311562086,
          25.401871943280497,
          26.381039812470203,
          26.945740497305525,
          26.086535539765517,
          26.588273517228036,
          27.049822899505326,
          25.915916553708925,
          23.879356868976377,
          24.154424490771767,
          21.126989757890968,
          17.693869459128713,
          18.3178884022312,
          19.535411346680082,
          20.144144804740602,
          20.971925375485988,
          16.845448821876502,
          17.027261467463212,
          18.97915956357023,
          19.67232753525704,
          20.29985491518946,
          19.765610955463796,
          19.306297434027247,
          18.011240073546542,
          17.778027802253533,
          14.660955638296715,
          16.623866733614662,
          13.97936669903402,
          14.66813708000466,
          16.32605826087864,
          17.009698394658763,
          20.665004595350933,
          15.657960011217906,
          13.742561149304255,
          16.36166251902531,
          12.85836809081303,
          10.270095510762182,
          10.318471196387724,
          6.492939428602991,
          5.601646599383756
         ],
         "yaxis": "y9"
        },
        {
         "hovertemplate": "variable=price<br>iteration=2<br>t=%{x}<br>value=%{y}<extra></extra>",
         "legendgroup": "price",
         "line": {
          "color": "rgb(76,114,176)",
          "dash": "solid"
         },
         "marker": {
          "symbol": "circle"
         },
         "mode": "lines",
         "name": "price",
         "showlegend": false,
         "type": "scattergl",
         "x": [
          0,
          1,
          2,
          3,
          4,
          5,
          6,
          7,
          8,
          9,
          10,
          11,
          12,
          13,
          14,
          15,
          16,
          17,
          18,
          19,
          20,
          21,
          22,
          23,
          24,
          25,
          26,
          27,
          28,
          29,
          30,
          31,
          32,
          33,
          34,
          35,
          36,
          37,
          38,
          39,
          40,
          41,
          42,
          43,
          44,
          45,
          46,
          47,
          48,
          49,
          50,
          51,
          52,
          53,
          54,
          55,
          56,
          57,
          58,
          59,
          60,
          61,
          62,
          63,
          64,
          65,
          66,
          67,
          68,
          69,
          70,
          71,
          72,
          73,
          74,
          75,
          76,
          77,
          78,
          79,
          80,
          81,
          82,
          83,
          84,
          85,
          86,
          87,
          88,
          89,
          90,
          91,
          92,
          93,
          94,
          95,
          96,
          97,
          98,
          99,
          100
         ],
         "xaxis": "x8",
         "y": [
          16,
          17.918771543433223,
          19.195254407550586,
          20.653677155780723,
          20.24433063004096,
          21.637882823354875,
          21.85040047890573,
          22.318722895074973,
          24.97776097912312,
          23.384816322973595,
          19.717584083276986,
          22.216451882732468,
          22.61203204661617,
          25.267404311151555,
          24.728493977537305,
          25.53232503579705,
          26.71657835266527,
          26.5277776482678,
          25.751509940800496,
          28.3586799795577,
          25.59431694880362,
          24.51322907048855,
          25.251055769113094,
          28.10764975225006,
          28.039849275502952,
          26.73128272212784,
          26.35279404025503,
          27.076637748112717,
          25.39106544638396,
          26.525510279527925,
          27.75469516868268,
          26.49242010827599,
          29.39444522852859,
          28.533207498794148,
          29.68568781372692,
          29.35182855896343,
          28.979644981878536,
          24.800509995260597,
          21.56574176928138,
          20.979358595983857,
          23.191345335798452,
          23.886762240700367,
          23.318034564620177,
          24.556376798570962,
          26.68407986403968,
          26.69675798876422,
          27.14291747401477,
          27.325957830361187,
          26.212391441575804,
          23.653426648124963,
          20.950352269753427,
          21.175324090853557,
          23.345898099745376,
          23.773400632633994,
          24.15605452154117,
          21.493242353110922,
          18.511618362862926,
          22.239342822490745,
          21.800382355921165,
          16.871324680237862,
          21.71215470473267,
          20.59301013263369,
          17.471093426644806,
          17.670048372676284,
          20.251660616056444,
          22.58831265227244,
          25.383943469093534,
          23.44364442979071,
          25.115213102431174,
          26.92285588656429,
          28.83294703910571,
          28.3494046857511,
          26.625863730862758,
          24.72873531480605,
          21.59721717044502,
          20.519674535209536,
          15.731153925408591,
          13.358217622940387,
          14.853549425158274,
          15.346794287262243,
          16.75357076850213,
          19.167270050300232,
          20.937345925612433,
          22.53018192722975,
          23.355993585124732,
          21.848938424409976,
          18.359994849207826,
          16.332452769667444,
          15.191092006363302,
          14.293376123467626,
          15.093745251507553,
          13.774448636663518,
          13.871304478323117,
          9.97504995949302,
          10.499121583641783,
          10.878808369316669,
          12.55118056934101,
          11.04614590073508,
          5.2263019691353305,
          3.638744128831071,
          4.067537094092389
         ],
         "yaxis": "y8"
        },
        {
         "hovertemplate": "variable=price<br>iteration=3<br>t=%{x}<br>value=%{y}<extra></extra>",
         "legendgroup": "price",
         "line": {
          "color": "rgb(76,114,176)",
          "dash": "solid"
         },
         "marker": {
          "symbol": "circle"
         },
         "mode": "lines",
         "name": "price",
         "showlegend": false,
         "type": "scattergl",
         "x": [
          0,
          1,
          2,
          3,
          4,
          5,
          6,
          7,
          8,
          9,
          10,
          11,
          12,
          13,
          14,
          15,
          16,
          17,
          18,
          19,
          20,
          21,
          22,
          23,
          24,
          25,
          26,
          27,
          28,
          29,
          30,
          31,
          32,
          33,
          34,
          35,
          36,
          37,
          38,
          39,
          40,
          41,
          42,
          43,
          44,
          45,
          46,
          47,
          48,
          49,
          50,
          51,
          52,
          53,
          54,
          55,
          56,
          57,
          58,
          59,
          60,
          61,
          62,
          63,
          64,
          65,
          66,
          67,
          68,
          69,
          70,
          71,
          72,
          73,
          74,
          75,
          76,
          77,
          78,
          79,
          80,
          81,
          82,
          83,
          84,
          85,
          86,
          87,
          88,
          89,
          90,
          91,
          92,
          93,
          94,
          95,
          96,
          97,
          98,
          99,
          100
         ],
         "xaxis": "x7",
         "y": [
          16,
          14.646770561141397,
          16.11766729776126,
          13.672918672681451,
          17.31551637430767,
          16.467688869467995,
          14.905550455776332,
          14.86437363006551,
          15.347693069707185,
          15.378513875508807,
          16.927408309391286,
          14.654177743186814,
          15.180030707860688,
          11.808836073091072,
          10.740219969742274,
          8.892751098944153,
          8.279553290329408,
          10.707193563294208,
          10.479239960508414,
          10.597935117368928,
          12.135762012726131,
          14.07803459952599,
          14.254757955093572,
          13.173585850068706,
          17.395459840092496,
          17.58492130919383,
          17.963953356801944,
          18.58410567475743,
          20.743227959710385,
          18.754416720071774,
          23.859786683963556,
          24.185136359826544,
          26.415649893763664,
          23.874085718134495,
          24.2028671240891,
          26.89851715000119,
          29.23429237224023,
          30.408810705845813,
          29.670716210116247,
          33.095753883779444,
          30.711828585439918,
          29.906982395854893,
          30.74380685648465,
          28.512490177843294,
          27.46705278550393,
          29.0367408587202,
          27.608991210647233,
          29.280607003275907,
          35.045811568644055,
          36.821217851168086,
          39.454769585569665,
          42.958219602700055,
          43.08740465681213,
          45.669008099170114,
          45.751327112871515,
          46.37948156061111,
          48.283588866890895,
          45.630178773057104,
          40.98946674828481,
          40.15915451659296,
          43.38508629991349,
          42.32345885937118,
          45.421806102253875,
          44.60065633441098,
          45.15758410294938,
          46.13029051935879,
          45.06013429127751,
          45.638754262551195,
          43.51179836681382,
          43.80989360237786,
          44.617535728531195,
          41.05606003778735,
          40.21028715399681,
          41.775461119835406,
          39.495139281582944,
          40.39076671502836,
          42.48824435275662,
          44.04453180566587,
          46.60006658383572,
          44.36032259505218,
          47.3638133903552,
          46.32256735132852,
          47.520636993342926,
          52.11582603821155,
          52.372392645040165,
          53.39529522838147,
          51.36515941692384,
          54.9354962210681,
          53.09379542544984,
          54.37304824444564,
          56.8723787785332,
          58.35240725114187,
          60.03399006714608,
          61.201232221967196,
          59.64155030668716,
          64.09954098845857,
          65.60996782217032,
          66.63407418337397,
          65.44713144245,
          66.56790329929883,
          66.46550907566564
         ],
         "yaxis": "y7"
        },
        {
         "hovertemplate": "variable=price<br>iteration=4<br>t=%{x}<br>value=%{y}<extra></extra>",
         "legendgroup": "price",
         "line": {
          "color": "rgb(76,114,176)",
          "dash": "solid"
         },
         "marker": {
          "symbol": "circle"
         },
         "mode": "lines",
         "name": "price",
         "showlegend": false,
         "type": "scattergl",
         "x": [
          0,
          1,
          2,
          3,
          4,
          5,
          6,
          7,
          8,
          9,
          10,
          11,
          12,
          13,
          14,
          15,
          16,
          17,
          18,
          19,
          20,
          21,
          22,
          23,
          24,
          25,
          26,
          27,
          28,
          29,
          30,
          31,
          32,
          33,
          34,
          35,
          36,
          37,
          38,
          39,
          40,
          41,
          42,
          43,
          44,
          45,
          46,
          47,
          48,
          49,
          50,
          51,
          52,
          53,
          54,
          55,
          56,
          57,
          58,
          59,
          60,
          61,
          62,
          63,
          64,
          65,
          66,
          67,
          68,
          69,
          70,
          71,
          72,
          73,
          74,
          75,
          76,
          77,
          78,
          79,
          80,
          81,
          82,
          83,
          84,
          85,
          86,
          87,
          88,
          89,
          90,
          91,
          92,
          93,
          94,
          95,
          96,
          97,
          98,
          99,
          100
         ],
         "xaxis": "x6",
         "y": [
          16,
          20.595122333289282,
          21.618013211472213,
          22.70643796768061,
          21.541583572904038,
          21.049387059599013,
          23.07183068869408,
          20.498415665957925,
          23.489818437757773,
          26.54149212352825,
          25.851401467589948,
          27.54061127709066,
          31.11527350030079,
          31.850816187238447,
          31.212602993216652,
          30.808436502437843,
          31.31420613237764,
          30.058073964926894,
          28.254088804668484,
          27.80049685037273,
          25.838014602641906,
          22.51385557717333,
          17.790165270688306,
          16.851999826753705,
          18.28037948461071,
          18.072247233472357,
          14.816685703688929,
          12.310901869231687,
          10.658377859185606,
          13.333151210160647,
          17.143271638289587,
          20.650653691691748,
          19.912769343784035,
          25.270476702519105,
          22.85594764261618,
          21.132282568447497,
          21.94948528823172,
          21.506637117255334,
          21.179803370466203,
          16.305869505055373,
          13.341830665394772,
          13.225008177677408,
          10.837995848532845,
          7.153645515791031,
          4.98389724592503,
          4.541625815219508,
          4.990191170131964,
          0.20629866350814297,
          0,
          0,
          0,
          0,
          0,
          1.4898947572928911,
          0,
          0,
          0,
          0,
          0,
          0,
          0,
          0,
          0,
          0,
          0,
          0,
          0.11116417730024963,
          1.085974467393051,
          2.9585779805196326,
          4.68543540469103,
          3.049622307434105,
          2.2880740296888895,
          0.9557583457894248,
          0,
          0,
          0,
          1.3306150710943538,
          0.9498552349126875,
          0,
          0.880578929767178,
          0.3037983953572785,
          0.2853318133449162,
          0,
          0,
          0,
          0,
          0,
          0,
          0,
          0,
          2.233748796997215,
          0,
          0,
          0,
          1.8487155143748681,
          2.283124016079728,
          3.7293680528920605,
          1.7299435955532978,
          3.939302026358358,
          1.1056178411646096,
          2.0323574532299835
         ],
         "yaxis": "y6"
        },
        {
         "hovertemplate": "variable=price<br>iteration=5<br>t=%{x}<br>value=%{y}<extra></extra>",
         "legendgroup": "price",
         "line": {
          "color": "rgb(76,114,176)",
          "dash": "solid"
         },
         "marker": {
          "symbol": "circle"
         },
         "mode": "lines",
         "name": "price",
         "showlegend": false,
         "type": "scattergl",
         "x": [
          0,
          1,
          2,
          3,
          4,
          5,
          6,
          7,
          8,
          9,
          10,
          11,
          12,
          13,
          14,
          15,
          16,
          17,
          18,
          19,
          20,
          21,
          22,
          23,
          24,
          25,
          26,
          27,
          28,
          29,
          30,
          31,
          32,
          33,
          34,
          35,
          36,
          37,
          38,
          39,
          40,
          41,
          42,
          43,
          44,
          45,
          46,
          47,
          48,
          49,
          50,
          51,
          52,
          53,
          54,
          55,
          56,
          57,
          58,
          59,
          60,
          61,
          62,
          63,
          64,
          65,
          66,
          67,
          68,
          69,
          70,
          71,
          72,
          73,
          74,
          75,
          76,
          77,
          78,
          79,
          80,
          81,
          82,
          83,
          84,
          85,
          86,
          87,
          88,
          89,
          90,
          91,
          92,
          93,
          94,
          95,
          96,
          97,
          98,
          99,
          100
         ],
         "xaxis": "x5",
         "y": [
          16,
          17.458963430927213,
          19.20773633433974,
          17.39919813815824,
          17.793958619217346,
          20.5350698380568,
          24.123809947257516,
          23.904341583997148,
          25.437987327565637,
          25.699515703388727,
          25.58095041133686,
          24.752004279665144,
          24.757990862065057,
          27.098149346469437,
          29.61064567372905,
          28.141019499906093,
          28.13953001239226,
          27.049442593219656,
          28.153789230534723,
          28.480125295253536,
          30.159876017638943,
          30.97953293229633,
          26.763626248741446,
          21.403206119762498,
          20.39394017531381,
          21.76920896075605,
          19.76848680596225,
          18.712651531313625,
          19.68492416523516,
          20.29628144372016,
          17.386697809458518,
          17.78383050020153,
          15.259183584146225,
          13.18385843034018,
          10.272608095537384,
          6.789097037780599,
          6.008392546928617,
          2.253761235887882,
          1.553446063862442,
          0.7901418906388511,
          0,
          0,
          0,
          0,
          2.8902519138530676,
          3.4964805164452484,
          4.037895209340633,
          2.212139235902978,
          5.850165631385771,
          5.676995461243969,
          6.164500422047265,
          8.02968932549957,
          9.250480776724007,
          7.4542614571263055,
          9.760751223688759,
          9.568573424376426,
          12.15843793020768,
          11.846328056925746,
          11.71217119782319,
          13.701284508468897,
          16.185204502096518,
          17.413402856321767,
          19.452724003014772,
          21.854170316733942,
          21.26497140648383,
          23.945411731872227,
          24.40206296449764,
          24.921188570356957,
          26.079166003036978,
          26.356625153030087,
          25.379370854160875,
          26.38558795453215,
          26.913929230182443,
          27.37361897150825,
          28.176726966892492,
          24.98182505167221,
          25.455678202759504,
          29.2190933895151,
          32.7959818881516,
          33.87043756099475,
          34.87803006423767,
          31.238808610735234,
          31.152466948623005,
          33.53267579815103,
          33.764183972389894,
          36.82457477869536,
          39.74988992366904,
          39.62692387010327,
          40.84815011526062,
          44.79405725963977,
          42.95868891932063,
          43.23216762418302,
          41.217516328636925,
          40.495832971589785,
          45.09931686708408,
          45.37215028647048,
          42.55588946001995,
          41.5601854935319,
          39.359773795444944,
          40.65702798605061,
          42.49197190353463
         ],
         "yaxis": "y5"
        },
        {
         "hovertemplate": "variable=price<br>iteration=6<br>t=%{x}<br>value=%{y}<extra></extra>",
         "legendgroup": "price",
         "line": {
          "color": "rgb(76,114,176)",
          "dash": "solid"
         },
         "marker": {
          "symbol": "circle"
         },
         "mode": "lines",
         "name": "price",
         "showlegend": false,
         "type": "scattergl",
         "x": [
          0,
          1,
          2,
          3,
          4,
          5,
          6,
          7,
          8,
          9,
          10,
          11,
          12,
          13,
          14,
          15,
          16,
          17,
          18,
          19,
          20,
          21,
          22,
          23,
          24,
          25,
          26,
          27,
          28,
          29,
          30,
          31,
          32,
          33,
          34,
          35,
          36,
          37,
          38,
          39,
          40,
          41,
          42,
          43,
          44,
          45,
          46,
          47,
          48,
          49,
          50,
          51,
          52,
          53,
          54,
          55,
          56,
          57,
          58,
          59,
          60,
          61,
          62,
          63,
          64,
          65,
          66,
          67,
          68,
          69,
          70,
          71,
          72,
          73,
          74,
          75,
          76,
          77,
          78,
          79,
          80,
          81,
          82,
          83,
          84,
          85,
          86,
          87,
          88,
          89,
          90,
          91,
          92,
          93,
          94,
          95,
          96,
          97,
          98,
          99,
          100
         ],
         "xaxis": "x4",
         "y": [
          16,
          18.70937146027112,
          20.975087289485735,
          19.22231229132984,
          20.953039775457373,
          21.671063980568537,
          24.686085522541653,
          26.18632914681554,
          30.107298348381597,
          29.254232126067297,
          28.137670024392023,
          28.165281762993928,
          28.960488349771737,
          28.61206342632272,
          27.853044169004836,
          29.448066311375946,
          29.4699113751381,
          29.04280341239739,
          27.286784858701658,
          23.787217302798442,
          27.437128661561704,
          31.018256186204052,
          33.58337383763437,
          35.63127574601971,
          35.47798116155232,
          37.61035667870199,
          36.36481981416,
          37.53783089800292,
          36.95277923708709,
          39.093853309364064,
          43.197613549609045,
          42.195030684095954,
          42.13307767498453,
          43.2690509270867,
          39.65365720753684,
          36.53489073692562,
          39.568476051204115,
          40.172417536242655,
          38.915448075969074,
          38.83837155228225,
          38.8739065948764,
          40.068733420791965,
          40.17441810613207,
          40.9434203475342,
          43.267583416697704,
          45.45469280650884,
          49.353382408981446,
          51.099487045849806,
          52.14619767807892,
          56.38633829635102,
          56.950280040142175,
          53.609049220551356,
          56.200726530990906,
          57.70161913151243,
          58.6551517098117,
          61.30355094940342,
          61.425443129193546,
          58.16704735079351,
          60.85801356775722,
          59.53517978314359,
          58.60447739352606,
          55.43567308354911,
          57.943383223416475,
          53.98196620344739,
          57.44777007165278,
          57.75272324726574,
          60.36186385043541,
          62.169771891906635,
          66.84222357136667,
          68.5943123106119,
          71.97513943719939,
          71.8536311090239,
          69.72786241834419,
          72.6627949641942,
          70.48499983583676,
          72.96905764179574,
          71.81952561416031,
          72.35971648255489,
          75.07870609780151,
          76.39448211866787,
          74.96687300248689,
          74.82246579898116,
          73.76903501508875,
          77.38872385926891,
          75.92415309646475,
          75.70586279334208,
          77.83040853717107,
          79.53566294500541,
          81.46801826940003,
          81.45380770854355,
          81.945882352448,
          84.77850523459713,
          86.5025053354214,
          88.25640090681215,
          90.91366304051103,
          91.83284409201117,
          92.49108623414328,
          88.28054373987814,
          88.00961271794466,
          87.36413545184237,
          89.31135823634857
         ],
         "yaxis": "y4"
        },
        {
         "hovertemplate": "variable=price<br>iteration=7<br>t=%{x}<br>value=%{y}<extra></extra>",
         "legendgroup": "price",
         "line": {
          "color": "rgb(76,114,176)",
          "dash": "solid"
         },
         "marker": {
          "symbol": "circle"
         },
         "mode": "lines",
         "name": "price",
         "showlegend": false,
         "type": "scattergl",
         "x": [
          0,
          1,
          2,
          3,
          4,
          5,
          6,
          7,
          8,
          9,
          10,
          11,
          12,
          13,
          14,
          15,
          16,
          17,
          18,
          19,
          20,
          21,
          22,
          23,
          24,
          25,
          26,
          27,
          28,
          29,
          30,
          31,
          32,
          33,
          34,
          35,
          36,
          37,
          38,
          39,
          40,
          41,
          42,
          43,
          44,
          45,
          46,
          47,
          48,
          49,
          50,
          51,
          52,
          53,
          54,
          55,
          56,
          57,
          58,
          59,
          60,
          61,
          62,
          63,
          64,
          65,
          66,
          67,
          68,
          69,
          70,
          71,
          72,
          73,
          74,
          75,
          76,
          77,
          78,
          79,
          80,
          81,
          82,
          83,
          84,
          85,
          86,
          87,
          88,
          89,
          90,
          91,
          92,
          93,
          94,
          95,
          96,
          97,
          98,
          99,
          100
         ],
         "xaxis": "x3",
         "y": [
          16,
          11.265890092434514,
          11.936588037346612,
          13.124954153811236,
          11.951818434630056,
          11.12017148003718,
          14.07495874837725,
          15.9993837263985,
          20.724018849188262,
          21.359019163887737,
          18.53938030599212,
          17.891410754999256,
          17.908099525068288,
          20.297440748325105,
          21.600937031131185,
          22.627336653285546,
          26.086800336104645,
          27.608674983230614,
          24.904357371299426,
          25.895337937190064,
          24.95138231124182,
          23.532564657162602,
          25.334937207230396,
          22.512049960955814,
          23.354351453745398,
          23.845349266795363,
          20.987370932534205,
          16.716444435618488,
          15.549546869165301,
          8.638309220475161,
          9.879990523281496,
          9.601173878595178,
          11.47858484331364,
          11.058665636280711,
          13.091545837459519,
          10.905105467718801,
          11.924901964671873,
          11.13441367466493,
          10.905993891109256,
          10.087479018613603,
          9.802117864034857,
          7.352895760999408,
          7.272307671029383,
          6.3528206750303085,
          2.6323039424516543,
          0,
          1.2500878434160505,
          0,
          0,
          0,
          2.4117053610891284,
          2.5383315081219777,
          2.198218585436507,
          0,
          0,
          0,
          0,
          0,
          0,
          0,
          0,
          0,
          0,
          0,
          0,
          0,
          0.09625675928439215,
          0,
          0,
          1.6240505244398284,
          0,
          0,
          0,
          1.1577580780594774,
          0.816981231347255,
          2.0515443923317718,
          2.6703275326456617,
          0.34067133972358166,
          0,
          0,
          3.0327372934506722,
          3.712582503716268,
          2.5026661917159227,
          1.029348542412122,
          0,
          0,
          0,
          0,
          0,
          0.5430665195238387,
          0,
          0,
          0,
          0,
          0,
          0,
          0,
          0,
          0,
          2.0575618394910187,
          1.7490149990941786
         ],
         "yaxis": "y3"
        },
        {
         "hovertemplate": "variable=price<br>iteration=8<br>t=%{x}<br>value=%{y}<extra></extra>",
         "legendgroup": "price",
         "line": {
          "color": "rgb(76,114,176)",
          "dash": "solid"
         },
         "marker": {
          "symbol": "circle"
         },
         "mode": "lines",
         "name": "price",
         "showlegend": false,
         "type": "scattergl",
         "x": [
          0,
          1,
          2,
          3,
          4,
          5,
          6,
          7,
          8,
          9,
          10,
          11,
          12,
          13,
          14,
          15,
          16,
          17,
          18,
          19,
          20,
          21,
          22,
          23,
          24,
          25,
          26,
          27,
          28,
          29,
          30,
          31,
          32,
          33,
          34,
          35,
          36,
          37,
          38,
          39,
          40,
          41,
          42,
          43,
          44,
          45,
          46,
          47,
          48,
          49,
          50,
          51,
          52,
          53,
          54,
          55,
          56,
          57,
          58,
          59,
          60,
          61,
          62,
          63,
          64,
          65,
          66,
          67,
          68,
          69,
          70,
          71,
          72,
          73,
          74,
          75,
          76,
          77,
          78,
          79,
          80,
          81,
          82,
          83,
          84,
          85,
          86,
          87,
          88,
          89,
          90,
          91,
          92,
          93,
          94,
          95,
          96,
          97,
          98,
          99,
          100
         ],
         "xaxis": "x2",
         "y": [
          16,
          16.693948247587574,
          16.28781008579197,
          14.045983049175668,
          16.931514651626216,
          17.020458961619354,
          15.200519555451603,
          14.74136516718031,
          15.646442005139495,
          16.123643586996383,
          13.988456048906611,
          16.253835689945788,
          13.410308391256642,
          17.126550582991165,
          18.51707664595071,
          17.749474794535217,
          17.24472654456625,
          17.401923956796328,
          17.466182704559206,
          12.912209425907054,
          10.391829248669243,
          9.484944195324966,
          10.835957348342525,
          12.10006192517088,
          14.280966521002927,
          16.436653232493292,
          14.775113469282621,
          14.741037690607694,
          16.910068012467626,
          18.857706155902243,
          17.45014243365315,
          17.456239770406878,
          15.534517134877055,
          11.550305463931071,
          10.311967789275231,
          8.954657451247451,
          6.941452059305045,
          7.014045997666832,
          5.5411531577378055,
          5.318101559440888,
          5.8216944911118,
          9.595598090259646,
          8.39027390817838,
          9.773053188761208,
          10.220988045508104,
          9.784899780296419,
          8.60625897489495,
          7.8765058786311135,
          6.421667053343345,
          7.39873077904627,
          4.946700583644316,
          1.9453617780806383,
          0.8697390853663594,
          0,
          0,
          0.7172089957123957,
          0,
          0,
          0,
          0,
          3.749213100052863,
          3.1564794574724653,
          1.1696767767071081,
          0,
          2.8058149245483355,
          2.3254306381593546,
          0.9975236381053616,
          0,
          0,
          0,
          0,
          0,
          0,
          4.845892388133155,
          6.041100373124035,
          5.9825557597242485,
          7.057602224403445,
          7.995937196235077,
          6.1119797249550505,
          8.941227832928742,
          9.562116809850185,
          10.784817668646408,
          14.739604998595746,
          13.115998667041325,
          12.5666949545172,
          14.194332994731443,
          16.980044627377353,
          16.742151522194625,
          16.61087402548455,
          18.868466612705156,
          24.403755020503667,
          25.544593275158245,
          24.98938141966171,
          23.875071671385165,
          24.586502914344656,
          27.270756832619924,
          33.88989477281271,
          34.26791697296416,
          35.411952256798266,
          39.82413577305354,
          41.41796751452576
         ],
         "yaxis": "y2"
        },
        {
         "hovertemplate": "variable=price<br>iteration=9<br>t=%{x}<br>value=%{y}<extra></extra>",
         "legendgroup": "price",
         "line": {
          "color": "rgb(76,114,176)",
          "dash": "solid"
         },
         "marker": {
          "symbol": "circle"
         },
         "mode": "lines",
         "name": "price",
         "showlegend": false,
         "type": "scattergl",
         "x": [
          0,
          1,
          2,
          3,
          4,
          5,
          6,
          7,
          8,
          9,
          10,
          11,
          12,
          13,
          14,
          15,
          16,
          17,
          18,
          19,
          20,
          21,
          22,
          23,
          24,
          25,
          26,
          27,
          28,
          29,
          30,
          31,
          32,
          33,
          34,
          35,
          36,
          37,
          38,
          39,
          40,
          41,
          42,
          43,
          44,
          45,
          46,
          47,
          48,
          49,
          50,
          51,
          52,
          53,
          54,
          55,
          56,
          57,
          58,
          59,
          60,
          61,
          62,
          63,
          64,
          65,
          66,
          67,
          68,
          69,
          70,
          71,
          72,
          73,
          74,
          75,
          76,
          77,
          78,
          79,
          80,
          81,
          82,
          83,
          84,
          85,
          86,
          87,
          88,
          89,
          90,
          91,
          92,
          93,
          94,
          95,
          96,
          97,
          98,
          99,
          100
         ],
         "xaxis": "x",
         "y": [
          16,
          17.42133375544924,
          21.34604428239596,
          22.536922359371435,
          21.570090402053374,
          24.995857785499688,
          21.811831781016778,
          24.842862213982638,
          25.827053183236167,
          26.225524013542696,
          26.57412779339524,
          27.27798298429973,
          26.391958677816795,
          27.276867887756218,
          26.457570031020214,
          22.61573817922985,
          21.614611984983934,
          22.536080600172863,
          17.588412860454937,
          16.574179150197907,
          14.649924999853015,
          15.515202685835256,
          13.99354576902609,
          14.532018185100346,
          14.821135009068307,
          15.168723796403823,
          17.286356292001994,
          15.833447122913716,
          14.948267265790031,
          14.777499835843438,
          13.953425628505443,
          12.436013825133982,
          9.634629457708629,
          8.656600484763679,
          4.661854144574606,
          0,
          0,
          1.322756379783416,
          2.785320425270145,
          5.129549055463018,
          4.745681663113798,
          7.833168458554787,
          6.039244343052523,
          4.870023098180047,
          7.918220777862096,
          9.232686464734483,
          11.58973436753454,
          13.060874108814328,
          12.937261021763149,
          11.548530060314231,
          7.891739437431227,
          11.50956852159677,
          8.257399544343736,
          12.101612244190848,
          13.304507105490947,
          14.83797944144423,
          16.23724947726726,
          18.32296592622245,
          17.756606202792117,
          14.444560117692156,
          14.281372249128946,
          16.18740976175329,
          15.035937844462826,
          17.178546922322056,
          15.918494799325076,
          12.596670886551598,
          12.891315547524538,
          12.762232219439374,
          12.78187363499161,
          6.947553873597478,
          0.8522887428919699,
          2.90298481140748,
          0.9706128464683959,
          4.024424339109635,
          7.282406541033669,
          5.897615880148802,
          3.8631671979455193,
          5.328022817471195,
          4.520838580432527,
          6.107858517351268,
          8.316316726721295,
          4.99244791396112,
          2.3892102324242193,
          1.5788639518849705,
          0,
          0,
          0,
          4.001926203180307,
          4.492668221170971,
          3.1847419538971273,
          1.1356841280711145,
          0,
          0,
          0,
          0,
          0,
          0,
          0.593088061039994,
          0,
          3.3931733659417014,
          4.932887152052411
         ],
         "yaxis": "y"
        },
        {
         "hovertemplate": "variable=price_smoothed<br>iteration=0<br>t=%{x}<br>value=%{y}<extra></extra>",
         "legendgroup": "price_smoothed",
         "line": {
          "color": "rgb(221,132,82)",
          "dash": "solid"
         },
         "marker": {
          "symbol": "circle"
         },
         "mode": "lines",
         "name": "price_smoothed",
         "showlegend": true,
         "type": "scattergl",
         "x": [
          0,
          1,
          2,
          3,
          4,
          5,
          6,
          7,
          8,
          9,
          10,
          11,
          12,
          13,
          14,
          15,
          16,
          17,
          18,
          19,
          20,
          21,
          22,
          23,
          24,
          25,
          26,
          27,
          28,
          29,
          30,
          31,
          32,
          33,
          34,
          35,
          36,
          37,
          38,
          39,
          40,
          41,
          42,
          43,
          44,
          45,
          46,
          47,
          48,
          49,
          50,
          51,
          52,
          53,
          54,
          55,
          56,
          57,
          58,
          59,
          60,
          61,
          62,
          63,
          64,
          65,
          66,
          67,
          68,
          69,
          70,
          71,
          72,
          73,
          74,
          75,
          76,
          77,
          78,
          79,
          80,
          81,
          82,
          83,
          84,
          85,
          86,
          87,
          88,
          89,
          90,
          91,
          92,
          93,
          94,
          95,
          96,
          97,
          98,
          99,
          100
         ],
         "xaxis": "x10",
         "y": [
          16,
          15.244022251263306,
          17.034019529589997,
          16.44796740348076,
          16.52941213636697,
          16.05958405762982,
          17.707544343609207,
          20.480070119158267,
          20.808818403786454,
          20.26500724801431,
          20.731967625901916,
          20.618754377102675,
          20.36844912756658,
          19.800370582022232,
          20.14156870846864,
          21.547077550613597,
          22.099749180318625,
          21.826268849683103,
          24.024785960301696,
          24.208122025739733,
          25.873952748325724,
          27.834117940728795,
          29.44719335074312,
          30.93728000916804,
          32.39733977498007,
          33.62996840200813,
          35.583560506290496,
          36.42209843467499,
          36.47923082564966,
          39.289288378670214,
          42.18789534100445,
          43.28863838772464,
          45.13957256564369,
          47.5055389482993,
          48.26803635336558,
          48.92895952005121,
          48.24063437045202,
          49.430161867247534,
          51.453699611981065,
          52.982716502908524,
          53.70833641457843,
          53.699326070586096,
          53.86218991579073,
          55.29281054245193,
          56.43948849666906,
          58.108635529376116,
          59.17149996087504,
          60.07875379505575,
          59.02497248391765,
          58.012692531934135,
          56.44133786883499,
          57.78885108680575,
          59.225626848050894,
          59.36904699540976,
          59.63742673335663,
          57.9996920622714,
          58.54120150421102,
          57.379173340649075,
          56.98927509889116,
          57.60289863009661,
          58.151887810996016,
          59.26757045420468,
          62.205137852503896,
          64.28602755480297,
          63.9460261894407,
          63.24681946186429,
          61.80969683701253,
          61.76744827361872,
          60.33296299091002,
          61.075994601149546,
          65.37831153663166,
          64.58365324923167,
          64.02005181029305,
          62.56947121435991,
          61.23718979459702,
          60.35737336309164,
          57.94351317968389,
          55.83852405195889,
          54.89998878737339,
          54.100812538059785,
          52.46204582531089,
          49.91925234436089,
          51.43627192548513,
          52.36526268505328,
          53.24816213094767,
          52.59373890799466,
          50.78070916750761,
          48.8998233728844,
          45.84644503044997,
          46.44115928669426,
          45.753479907013705,
          46.6755785314991,
          45.67690999567748,
          45.27756844877725,
          44.71429419681785,
          41.9298890422861,
          42.807699505023194,
          41.83458039425394,
          39.292780706162276,
          38.730898312299445,
          37.855162980732494
         ],
         "yaxis": "y10"
        },
        {
         "hovertemplate": "variable=price_smoothed<br>iteration=1<br>t=%{x}<br>value=%{y}<extra></extra>",
         "legendgroup": "price_smoothed",
         "line": {
          "color": "rgb(221,132,82)",
          "dash": "solid"
         },
         "marker": {
          "symbol": "circle"
         },
         "mode": "lines",
         "name": "price_smoothed",
         "showlegend": false,
         "type": "scattergl",
         "x": [
          0,
          1,
          2,
          3,
          4,
          5,
          6,
          7,
          8,
          9,
          10,
          11,
          12,
          13,
          14,
          15,
          16,
          17,
          18,
          19,
          20,
          21,
          22,
          23,
          24,
          25,
          26,
          27,
          28,
          29,
          30,
          31,
          32,
          33,
          34,
          35,
          36,
          37,
          38,
          39,
          40,
          41,
          42,
          43,
          44,
          45,
          46,
          47,
          48,
          49,
          50,
          51,
          52,
          53,
          54,
          55,
          56,
          57,
          58,
          59,
          60,
          61,
          62,
          63,
          64,
          65,
          66,
          67,
          68,
          69,
          70,
          71,
          72,
          73,
          74,
          75,
          76,
          77,
          78,
          79,
          80,
          81,
          82,
          83,
          84,
          85,
          86,
          87,
          88,
          89,
          90,
          91,
          92,
          93,
          94,
          95,
          96,
          97,
          98,
          99,
          100
         ],
         "xaxis": "x9",
         "y": [
          16,
          17.172604368318506,
          18.351204548476503,
          16.534543661080473,
          15.509023016451643,
          14.671953509362744,
          16.403096216534493,
          17.6653231183182,
          19.42791105128228,
          20.19794509906476,
          21.882316925205,
          22.17132052209721,
          21.24461925753218,
          20.513811579997864,
          19.72125497101659,
          22.307951640869696,
          21.18941995104328,
          18.10504164152355,
          16.921575153694107,
          14.845817834504222,
          10.516885997113139,
          7.030826269292427,
          8.380467095775254,
          6.85775425428548,
          3.2401206539392633,
          4.435776530675016,
          2.558973483859246,
          5.363026606751084,
          5.688694004115392,
          8.906570925492515,
          10.228545017586697,
          11.233809749468218,
          11.348037018710215,
          11.748861957918283,
          12.894147285157462,
          14.59788681489241,
          16.02660973254875,
          17.229644094454663,
          17.280373156066453,
          17.859390636771103,
          20.935792744447838,
          21.490433283178184,
          22.722446248468707,
          25.459650272380273,
          27.653012244301998,
          30.309434710059968,
          29.551758491607092,
          28.993659712170356,
          27.717190418214358,
          26.28148130053792,
          27.21085732742541,
          26.4580797651781,
          25.946638082065846,
          22.63379508166215,
          23.358232481370905,
          24.08492292046099,
          23.517075968027633,
          22.178483240999398,
          21.892622761673717,
          22.755241262444784,
          24.755535149311015,
          25.814806762886768,
          25.525752389162378,
          26.124453585477855,
          26.699354423757224,
          26.27038120496303,
          26.492905823548533,
          26.882747776718286,
          26.20596592061173,
          24.577339584466984,
          24.281299018880333,
          22.073282536187776,
          19.00769338224643,
          18.524829896235772,
          19.23223691154679,
          19.87057243678246,
          20.64151949387493,
          17.984270023476032,
          17.314364034267058,
          18.47972090477928,
          19.314545546113713,
          20.004262104466736,
          19.837206300164677,
          19.465570093868475,
          18.44753907964312,
          17.97888118547041,
          15.656333302448825,
          16.33360670426491,
          14.685638700603288,
          14.67338756618425,
          15.830257052470323,
          16.65586599200223,
          19.462263014346323,
          16.79925091215643,
          14.659568078159907,
          15.851034186765688,
          13.756167919598829,
          11.315917233413177,
          10.61770500749536,
          7.730369102270702,
          6.2402633502498395
         ],
         "yaxis": "y9"
        },
        {
         "hovertemplate": "variable=price_smoothed<br>iteration=2<br>t=%{x}<br>value=%{y}<extra></extra>",
         "legendgroup": "price_smoothed",
         "line": {
          "color": "rgb(221,132,82)",
          "dash": "solid"
         },
         "marker": {
          "symbol": "circle"
         },
         "mode": "lines",
         "name": "price_smoothed",
         "showlegend": false,
         "type": "scattergl",
         "x": [
          0,
          1,
          2,
          3,
          4,
          5,
          6,
          7,
          8,
          9,
          10,
          11,
          12,
          13,
          14,
          15,
          16,
          17,
          18,
          19,
          20,
          21,
          22,
          23,
          24,
          25,
          26,
          27,
          28,
          29,
          30,
          31,
          32,
          33,
          34,
          35,
          36,
          37,
          38,
          39,
          40,
          41,
          42,
          43,
          44,
          45,
          46,
          47,
          48,
          49,
          50,
          51,
          52,
          53,
          54,
          55,
          56,
          57,
          58,
          59,
          60,
          61,
          62,
          63,
          64,
          65,
          66,
          67,
          68,
          69,
          70,
          71,
          72,
          73,
          74,
          75,
          76,
          77,
          78,
          79,
          80,
          81,
          82,
          83,
          84,
          85,
          86,
          87,
          88,
          89,
          90,
          91,
          92,
          93,
          94,
          95,
          96,
          97,
          98,
          99,
          100
         ],
         "xaxis": "x8",
         "y": [
          16,
          17.343140080403256,
          18.639620109406387,
          20.04946004186842,
          20.1858694535892,
          21.20227881242517,
          21.655963978961562,
          22.11989522024095,
          24.120401251458468,
          23.605491801519054,
          20.883956398749607,
          21.81670323753761,
          22.3734334038926,
          24.39921303897387,
          24.629709695968273,
          25.261540433848417,
          26.280066977020216,
          26.453464446893527,
          25.962096292628406,
          27.639704873478912,
          26.20793332620621,
          25.02164034720385,
          25.182231142540317,
          27.23002416933714,
          27.79690174365321,
          27.05096842858545,
          26.56224635675416,
          26.922320330705148,
          25.850441911680317,
          26.322989769173642,
          27.32518354882997,
          26.742249140442183,
          28.598786402102668,
          28.5528811697867,
          29.345845820544852,
          29.350033737437855,
          29.090761608546334,
          26.087585479246318,
          22.92229488227086,
          21.56223948186996,
          22.702613579619907,
          23.53151764237623,
          23.382079487946992,
          24.20408760538377,
          25.940082186442908,
          26.469755248067823,
          26.940968806230686,
          27.210461123122037,
          26.511812346039672,
          24.510942357499378,
          22.01852929607721,
          21.428285652420655,
          22.77061436554796,
          23.472564752508184,
          23.951007590831274,
          22.23057192442703,
          19.627304431332156,
          21.455731305143168,
          21.696987040687766,
          18.319023388372834,
          20.69421530982472,
          20.623371685791,
          18.416776904388662,
          17.894066932189997,
          19.54438251089651,
          21.67513360985966,
          24.27130051132337,
          23.69194125425051,
          24.688231547976976,
          26.252468584988094,
          28.058803502870425,
          28.262224330886898,
          27.11677191087,
          25.445146293625236,
          22.751595907399086,
          21.1892509468664,
          17.368583031845937,
          14.561327245612052,
          14.765882771294407,
          15.172520832471893,
          16.27925578769306,
          18.30086577151808,
          20.14640187938413,
          21.815047912876064,
          22.893709883450132,
          22.16236986212202,
          19.500707353082085,
          17.28292914469184,
          15.818643147861863,
          14.750956230785897,
          14.990908545291056,
          14.13938660925178,
          13.951729117601715,
          11.16805370692563,
          10.699801220626938,
          10.82510622470975,
          12.033358265951632,
          11.342309610300045,
          7.061104261484745,
          4.665452168627174,
          4.246911616452825
         ],
         "yaxis": "y8"
        },
        {
         "hovertemplate": "variable=price_smoothed<br>iteration=3<br>t=%{x}<br>value=%{y}<extra></extra>",
         "legendgroup": "price_smoothed",
         "line": {
          "color": "rgb(221,132,82)",
          "dash": "solid"
         },
         "marker": {
          "symbol": "circle"
         },
         "mode": "lines",
         "name": "price_smoothed",
         "showlegend": false,
         "type": "scattergl",
         "x": [
          0,
          1,
          2,
          3,
          4,
          5,
          6,
          7,
          8,
          9,
          10,
          11,
          12,
          13,
          14,
          15,
          16,
          17,
          18,
          19,
          20,
          21,
          22,
          23,
          24,
          25,
          26,
          27,
          28,
          29,
          30,
          31,
          32,
          33,
          34,
          35,
          36,
          37,
          38,
          39,
          40,
          41,
          42,
          43,
          44,
          45,
          46,
          47,
          48,
          49,
          50,
          51,
          52,
          53,
          54,
          55,
          56,
          57,
          58,
          59,
          60,
          61,
          62,
          63,
          64,
          65,
          66,
          67,
          68,
          69,
          70,
          71,
          72,
          73,
          74,
          75,
          76,
          77,
          78,
          79,
          80,
          81,
          82,
          83,
          84,
          85,
          86,
          87,
          88,
          89,
          90,
          91,
          92,
          93,
          94,
          95,
          96,
          97,
          98,
          99,
          100
         ],
         "xaxis": "x7",
         "y": [
          16,
          15.052739392798978,
          15.798188926272573,
          14.310499748758788,
          16.414011386643004,
          16.4515856246205,
          15.369361006429582,
          15.015869842974732,
          15.24814610168745,
          15.339403543362401,
          16.45100687958262,
          15.193226484105555,
          15.183989440734148,
          12.821382083383995,
          11.36456860383479,
          9.634296350411343,
          8.685976208353988,
          10.100828356812142,
          10.365716479399532,
          10.528269525978109,
          11.653514266701725,
          13.350678499678711,
          13.983534118469114,
          13.41657033058883,
          16.201792987241394,
          17.169982812608097,
          17.72576219354379,
          18.32660263039334,
          20.01824036091527,
          19.133563812324823,
          22.441919822471935,
          23.66217139862016,
          25.589606345220613,
          24.38874190626033,
          24.258629558740466,
          26.106550872622975,
          28.295969922355056,
          29.774958470798587,
          29.701988888320948,
          32.077624385141895,
          31.12156732535051,
          30.27135787470358,
          30.602072161950332,
          29.139364773075407,
          27.968746381775375,
          28.716342515636754,
          27.94119660214409,
          28.87878388293636,
          33.195703262931744,
          35.733563474697185,
          38.33840775230792,
          41.57227604758241,
          42.63286607404322,
          44.75816549163204,
          45.45337862649968,
          46.10165068037768,
          47.62900741093693,
          46.229827364421055,
          42.561574933125684,
          40.879880641552774,
          42.633524602405274,
          42.41647858228141,
          44.52020784626214,
          44.57652178796633,
          44.983265408454464,
          45.78618298608749,
          45.2779488997205,
          45.53051265370198,
          44.11741265288027,
          43.90214931752858,
          44.40291980523041,
          42.060117968020265,
          40.76523639820385,
          41.472393703345936,
          40.08831560811184,
          40.30003138295341,
          41.831780461815654,
          43.3807064025108,
          45.63425852943824,
          44.742503375368,
          46.57742038585904,
          46.399023261687674,
          47.18415287384635,
          50.636324088901986,
          51.851572078198714,
          52.93217828332664,
          51.83526507684468,
          54.00542687780108,
          53.36728486115521,
          54.07131922945851,
          56.032060913810795,
          57.65630334994255,
          59.32068405198502,
          60.63706777097255,
          59.94020554597277,
          62.851740355712835,
          64.78249958223307,
          66.0786018030317,
          65.6365725506245,
          66.28850407469653,
          66.41240757537491
         ],
         "yaxis": "y7"
        },
        {
         "hovertemplate": "variable=price_smoothed<br>iteration=4<br>t=%{x}<br>value=%{y}<extra></extra>",
         "legendgroup": "price_smoothed",
         "line": {
          "color": "rgb(221,132,82)",
          "dash": "solid"
         },
         "marker": {
          "symbol": "circle"
         },
         "mode": "lines",
         "name": "price_smoothed",
         "showlegend": false,
         "type": "scattergl",
         "x": [
          0,
          1,
          2,
          3,
          4,
          5,
          6,
          7,
          8,
          9,
          10,
          11,
          12,
          13,
          14,
          15,
          16,
          17,
          18,
          19,
          20,
          21,
          22,
          23,
          24,
          25,
          26,
          27,
          28,
          29,
          30,
          31,
          32,
          33,
          34,
          35,
          36,
          37,
          38,
          39,
          40,
          41,
          42,
          43,
          44,
          45,
          46,
          47,
          48,
          49,
          50,
          51,
          52,
          53,
          54,
          55,
          56,
          57,
          58,
          59,
          60,
          61,
          62,
          63,
          64,
          65,
          66,
          67,
          68,
          69,
          70,
          71,
          72,
          73,
          74,
          75,
          76,
          77,
          78,
          79,
          80,
          81,
          82,
          83,
          84,
          85,
          86,
          87,
          88,
          89,
          90,
          91,
          92,
          93,
          94,
          95,
          96,
          97,
          98,
          99,
          100
         ],
         "xaxis": "x6",
         "y": [
          16,
          19.216585633302497,
          20.897584938021296,
          22.163782058782814,
          21.72824311866767,
          21.253043877319612,
          22.52619464528174,
          21.10674935975507,
          22.774897714356964,
          25.411513800776863,
          25.719435167546024,
          26.99425844422727,
          29.878968983478735,
          31.259262026110534,
          31.226600703084817,
          30.933885762631938,
          31.20011002145393,
          30.400684781885005,
          28.89806759783344,
          28.129768074610944,
          26.52554064423262,
          23.717361097291118,
          19.56832401866915,
          17.66689708432834,
          18.096334764526,
          18.07947349278845,
          15.795522040418785,
          13.356287920587816,
          11.467750877606267,
          12.773531110394334,
          15.83234947992101,
          19.205162428160527,
          19.700487269096982,
          23.59947987249247,
          23.079007311579065,
          21.71629999138697,
          21.879529699178292,
          21.61850489183222,
          21.31141382687601,
          17.807532801601564,
          14.68154130625681,
          13.661968116251229,
          11.68518752884836,
          8.51310811970823,
          6.04266050805999,
          4.991936223071653,
          4.99071468601387,
          1.6416234702598613,
          0.4924870410779585,
          0.14774611232338758,
          0.04432383369701628,
          0.013297150109104885,
          0.003989145032731466,
          1.0441230736148432,
          0.31323692208445303,
          0.09397107662533592,
          0.02819132298760078,
          0.008457396896280235,
          0.0025372190688840706,
          0.0007611657206652212,
          0.0002283497161995664,
          6.850491485986993e-05,
          2.055147445796098e-05,
          6.165442337388295e-06,
          1.8496327012164889e-06,
          5.548898103649468e-07,
          0.07781509057711784,
          0.783526654348271,
          2.306062582668224,
          3.9716235580841883,
          3.3262226826291297,
          2.5995186255709615,
          1.448886429723886,
          0.4346659289171658,
          0.13039977867514976,
          0.03911993360254493,
          0.9431665298468112,
          0.9478486233929246,
          0.2843545870178774,
          0.7017116269423878,
          0.4231723648328113,
          0.32668397879128475,
          0.09800519363738544,
          0.029401558091215637,
          0.008820467427364692,
          0.0026461402282094084,
          0.0007938420684628227,
          0.00023815262053884684,
          7.144578616165406e-05,
          2.1433735848496224e-05,
          1.563630588018805,
          0.4690891764056416,
          0.14072675292169248,
          0.042218025876507755,
          1.3067662678253598,
          1.9902166916034174,
          3.2076226445054674,
          2.1732473102389487,
          3.409485611522535,
          1.796778172271987,
          1.9616836689425845
         ],
         "yaxis": "y6"
        },
        {
         "hovertemplate": "variable=price_smoothed<br>iteration=5<br>t=%{x}<br>value=%{y}<extra></extra>",
         "legendgroup": "price_smoothed",
         "line": {
          "color": "rgb(221,132,82)",
          "dash": "solid"
         },
         "marker": {
          "symbol": "circle"
         },
         "mode": "lines",
         "name": "price_smoothed",
         "showlegend": false,
         "type": "scattergl",
         "x": [
          0,
          1,
          2,
          3,
          4,
          5,
          6,
          7,
          8,
          9,
          10,
          11,
          12,
          13,
          14,
          15,
          16,
          17,
          18,
          19,
          20,
          21,
          22,
          23,
          24,
          25,
          26,
          27,
          28,
          29,
          30,
          31,
          32,
          33,
          34,
          35,
          36,
          37,
          38,
          39,
          40,
          41,
          42,
          43,
          44,
          45,
          46,
          47,
          48,
          49,
          50,
          51,
          52,
          53,
          54,
          55,
          56,
          57,
          58,
          59,
          60,
          61,
          62,
          63,
          64,
          65,
          66,
          67,
          68,
          69,
          70,
          71,
          72,
          73,
          74,
          75,
          76,
          77,
          78,
          79,
          80,
          81,
          82,
          83,
          84,
          85,
          86,
          87,
          88,
          89,
          90,
          91,
          92,
          93,
          94,
          95,
          96,
          97,
          98,
          99,
          100
         ],
         "xaxis": "x5",
         "y": [
          16,
          17.02127440164905,
          18.55179775453253,
          17.74497802307053,
          17.7792644403733,
          19.70832821875175,
          22.799165428705784,
          23.572788737409738,
          24.878427750518867,
          25.45318931752777,
          25.542622083194132,
          24.989189620723838,
          24.82735048966269,
          26.416909689427413,
          28.652524878438555,
          28.294471113465832,
          28.186012342714335,
          27.39041351806806,
          27.924776516794722,
          28.31352066171589,
          29.605969410862027,
          30.56746387586604,
          27.904777536878825,
          23.353677544897394,
          21.281861386188886,
          21.6230046883859,
          20.324842170689347,
          19.196308723126343,
          19.538339532602514,
          20.068898870384867,
          18.19135812773642,
          17.906088788461997,
          16.053255145440957,
          14.044677444870413,
          11.404228900337294,
          8.173636596547608,
          6.657965761814314,
          3.5750225936658118,
          2.159919022803453,
          1.2010750302882316,
          0.3603225090864695,
          0.10809675272594087,
          0.032429025817782266,
          0.00972870774533468,
          2.0260949520207476,
          3.0553648471178985,
          3.743136100673812,
          2.6714382953342284,
          4.896547430570308,
          5.442861052041871,
          5.948008611045647,
          7.405185111163393,
          8.696892077055823,
          7.827050643105161,
          9.18064104951368,
          9.452193711917602,
          11.346564664720658,
          11.69639903926422,
          11.7074395502555,
          13.103131021004877,
          15.260582457769026,
          16.767556736755946,
          18.647173823137123,
          20.892071368654896,
          21.15310139513515,
          23.107718630851103,
          24.01375966440368,
          24.648959898570972,
          25.650104171697176,
          26.14466885863021,
          25.608960255501675,
          26.152599644823006,
          26.685530354574613,
          27.16719238642816,
          27.873866592753195,
          25.849437513996506,
          25.573805996130602,
          28.12550717149975,
          31.394839473156047,
          33.127758134643145,
          34.35294848535931,
          32.17305057312246,
          31.45864203597284,
          32.910465669497576,
          33.5080684815222,
          35.829622889543415,
          38.57380981343135,
          39.31098965310169,
          40.38700197661294,
          43.47194067473173,
          43.112664445943956,
          43.1963166707113,
          41.811156431259235,
          40.890430009490615,
          43.83665080980604,
          44.91150044347115,
          43.26257275505531,
          42.07090167198892,
          40.17311215840814,
          40.51185323775786,
          41.8979363038016
         ],
         "yaxis": "y5"
        },
        {
         "hovertemplate": "variable=price_smoothed<br>iteration=6<br>t=%{x}<br>value=%{y}<extra></extra>",
         "legendgroup": "price_smoothed",
         "line": {
          "color": "rgb(221,132,82)",
          "dash": "solid"
         },
         "marker": {
          "symbol": "circle"
         },
         "mode": "lines",
         "name": "price_smoothed",
         "showlegend": false,
         "type": "scattergl",
         "x": [
          0,
          1,
          2,
          3,
          4,
          5,
          6,
          7,
          8,
          9,
          10,
          11,
          12,
          13,
          14,
          15,
          16,
          17,
          18,
          19,
          20,
          21,
          22,
          23,
          24,
          25,
          26,
          27,
          28,
          29,
          30,
          31,
          32,
          33,
          34,
          35,
          36,
          37,
          38,
          39,
          40,
          41,
          42,
          43,
          44,
          45,
          46,
          47,
          48,
          49,
          50,
          51,
          52,
          53,
          54,
          55,
          56,
          57,
          58,
          59,
          60,
          61,
          62,
          63,
          64,
          65,
          66,
          67,
          68,
          69,
          70,
          71,
          72,
          73,
          74,
          75,
          76,
          77,
          78,
          79,
          80,
          81,
          82,
          83,
          84,
          85,
          86,
          87,
          88,
          89,
          90,
          91,
          92,
          93,
          94,
          95,
          96,
          97,
          98,
          99,
          100
         ],
         "xaxis": "x4",
         "y": [
          16,
          17.896560022189785,
          20.05152910929695,
          19.471077336719972,
          20.508451043836153,
          21.32228009954882,
          23.676943895643802,
          25.433513571464022,
          28.705162915306325,
          29.089511362839005,
          28.423222425926117,
          28.242663961873586,
          28.74514103340229,
          28.651986708446593,
          28.092726930837365,
          29.04146449721437,
          29.341377311760983,
          29.13237558220647,
          27.840462075753102,
          25.00319073468484,
          26.706947283498646,
          29.724863515392432,
          32.42582074096179,
          34.669639244502335,
          35.235478586437324,
          36.89789325102259,
          36.52474184521878,
          37.23390418216768,
          37.037116720611266,
          38.476832332738226,
          41.7813791845478,
          42.070935234231506,
          42.11443494275862,
          42.922666131788276,
          40.63435988481227,
          37.76473148129162,
          39.027352680230365,
          39.828898079438964,
          39.18948307701004,
          38.94370500970059,
          38.89484611932366,
          39.71656723035147,
          40.03706284339789,
          40.67151309629331,
          42.488762320576384,
          44.564913660729104,
          47.91684178450574,
          50.14469346744659,
          51.545746414889216,
          54.934160731912485,
          56.34544424767327,
          54.42996772868793,
          55.66949889030001,
          57.0919830591487,
          58.1862011146128,
          60.368345998966234,
          61.10831399012535,
          59.04942734259306,
          60.31543770020797,
          59.7692571582629,
          58.95391132294712,
          56.49114455536852,
          57.50771162300209,
          55.0396898293138,
          56.725345998951084,
          57.44451007277135,
          59.4866577171362,
          61.3648376394755,
          65.19900779179932,
          67.57572095496812,
          70.65531389253,
          71.49413594407572,
          70.25774447606365,
          71.94127981775503,
          70.92188383041224,
          72.3549054983807,
          71.98013957942644,
          72.24584341161635,
          74.22884729194597,
          75.7447916706513,
          75.20024860293621,
          74.93580064016767,
          74.11906470261243,
          76.40782611227196,
          76.06925500120691,
          75.81488045570153,
          77.2257501127302,
          78.84268909532285,
          80.68041951717689,
          81.22179125113355,
          81.72865502205366,
          83.86355017083409,
          85.71081878604521,
          87.49272627058207,
          89.88738200953233,
          91.24920546726753,
          92.11852200408056,
          89.43193721913886,
          88.43631006830292,
          87.68578783678053,
          88.82368711647815
         ],
         "yaxis": "y4"
        },
        {
         "hovertemplate": "variable=price_smoothed<br>iteration=7<br>t=%{x}<br>value=%{y}<extra></extra>",
         "legendgroup": "price_smoothed",
         "line": {
          "color": "rgb(221,132,82)",
          "dash": "solid"
         },
         "marker": {
          "symbol": "circle"
         },
         "mode": "lines",
         "name": "price_smoothed",
         "showlegend": false,
         "type": "scattergl",
         "x": [
          0,
          1,
          2,
          3,
          4,
          5,
          6,
          7,
          8,
          9,
          10,
          11,
          12,
          13,
          14,
          15,
          16,
          17,
          18,
          19,
          20,
          21,
          22,
          23,
          24,
          25,
          26,
          27,
          28,
          29,
          30,
          31,
          32,
          33,
          34,
          35,
          36,
          37,
          38,
          39,
          40,
          41,
          42,
          43,
          44,
          45,
          46,
          47,
          48,
          49,
          50,
          51,
          52,
          53,
          54,
          55,
          56,
          57,
          58,
          59,
          60,
          61,
          62,
          63,
          64,
          65,
          66,
          67,
          68,
          69,
          70,
          71,
          72,
          73,
          74,
          75,
          76,
          77,
          78,
          79,
          80,
          81,
          82,
          83,
          84,
          85,
          86,
          87,
          88,
          89,
          90,
          91,
          92,
          93,
          94,
          95,
          96,
          97,
          98,
          99,
          100
         ],
         "xaxis": "x3",
         "y": [
          16,
          12.686123064704159,
          12.161448545553876,
          12.835902471334027,
          12.217043645641247,
          11.449233129718401,
          13.287241062779595,
          15.185740927312828,
          19.062535472625633,
          20.670074056509108,
          19.178588431147215,
          18.277564057843644,
          18.018938884900894,
          19.61389018929784,
          21.00482297858118,
          22.140582550874235,
          24.90293500053552,
          26.796952988422085,
          25.472136056436227,
          25.768377372963915,
          25.196480829758446,
          24.031739508941357,
          24.943977897743682,
          23.241628341992175,
          23.32053452021943,
          23.687904842822583,
          21.79753110562072,
          18.240770436619158,
          16.35691393940146,
          10.953890636153051,
          10.202160557142962,
          9.781469882159513,
          10.969450354967403,
          11.031901051886718,
          12.473652401787678,
          11.375669547939465,
          11.760132239652151,
          11.322129244161097,
          11.03083449702481,
          10.370485662136964,
          9.97262820346549,
          8.138815493739232,
          7.532260017842337,
          6.706652477873917,
          3.8546085030783335,
          1.1563825509235002,
          1.2219762556682854,
          0.3665928767004857,
          0.10997786301014573,
          0.032993358903043724,
          1.698091760433303,
          2.286259583815375,
          2.2246308849501677,
          0.6673892654850504,
          0.20021677964551515,
          0.06006503389365456,
          0.01801951016809637,
          0.0054058530504289114,
          0.0016217559151286737,
          0.0004865267745386022,
          0.0001459580323615807,
          4.378740970847421e-05,
          1.3136222912542265e-05,
          3.94086687376268e-06,
          1.1822600621288041e-06,
          3.546780186386413e-07,
          0.06737983790248009,
          0.02021395137074403,
          0.00606418541122321,
          1.1386546227312468,
          0.3415963868193741,
          0.10247891604581225,
          0.03074367481374368,
          0.8196537570857572,
          0.8177829890688056,
          1.6814159713528818,
          2.3736540642578277,
          0.9505661570838556,
          0.28516984712515675,
          0.08555095413754704,
          2.1485813916567347,
          3.243382170098408,
          2.7248809852306684,
          1.538008275257686,
          0.4614024825773059,
          0.13842074477319177,
          0.04152622343195754,
          0.012457867029587264,
          0.0037373601088761797,
          0.3812677716993499,
          0.11438033150980498,
          0.0343140994529415,
          0.01029422983588245,
          0.0030882689507647355,
          0.0009264806852294208,
          0.00027794420556882625,
          8.338326167064789e-05,
          2.501497850119437e-05,
          7.5044935503583115e-06,
          1.440295538991778,
          1.6563991610634583
         ],
         "yaxis": "y3"
        },
        {
         "hovertemplate": "variable=price_smoothed<br>iteration=8<br>t=%{x}<br>value=%{y}<extra></extra>",
         "legendgroup": "price_smoothed",
         "line": {
          "color": "rgb(221,132,82)",
          "dash": "solid"
         },
         "marker": {
          "symbol": "circle"
         },
         "mode": "lines",
         "name": "price_smoothed",
         "showlegend": false,
         "type": "scattergl",
         "x": [
          0,
          1,
          2,
          3,
          4,
          5,
          6,
          7,
          8,
          9,
          10,
          11,
          12,
          13,
          14,
          15,
          16,
          17,
          18,
          19,
          20,
          21,
          22,
          23,
          24,
          25,
          26,
          27,
          28,
          29,
          30,
          31,
          32,
          33,
          34,
          35,
          36,
          37,
          38,
          39,
          40,
          41,
          42,
          43,
          44,
          45,
          46,
          47,
          48,
          49,
          50,
          51,
          52,
          53,
          54,
          55,
          56,
          57,
          58,
          59,
          60,
          61,
          62,
          63,
          64,
          65,
          66,
          67,
          68,
          69,
          70,
          71,
          72,
          73,
          74,
          75,
          76,
          77,
          78,
          79,
          80,
          81,
          82,
          83,
          84,
          85,
          86,
          87,
          88,
          89,
          90,
          91,
          92,
          93,
          94,
          95,
          96,
          97,
          98,
          99,
          100
         ],
         "xaxis": "x2",
         "y": [
          16,
          16.4857637733113,
          16.34719619204777,
          14.7363469920373,
          16.272964353749543,
          16.79621057925841,
          15.679226862593644,
          15.022723675804311,
          15.45932650633894,
          15.924348462799152,
          14.569223773074373,
          15.748452114884365,
          14.111751508344959,
          16.222110860597304,
          17.82858691034469,
          17.773208429278057,
          17.40327110997979,
          17.40232810275137,
          17.447026324016853,
          14.272654495339994,
          11.55607682267047,
          10.106283983528616,
          10.617055338898354,
          11.655159949289121,
          13.493224549488785,
          15.55362462759194,
          15.008666816775417,
          14.821326428458011,
          16.28344553726474,
          18.08542797031099,
          17.640728094650502,
          17.511586267679967,
          16.127637874717927,
          12.923505187167127,
          11.0954290086428,
          9.596888918466055,
          7.738083117053348,
          7.231257133482787,
          6.0481843504613,
          5.537126396747011,
          5.736324062802364,
          8.437815882022461,
          8.404536500331604,
          9.362498182232326,
          9.963441086525371,
          9.838462172165105,
          8.975919934075996,
          8.206330095264578,
          6.957065965919716,
          7.266231335108303,
          5.642559809083512,
          3.0545211873815004,
          1.5251737159709018,
          0.4575521147912706,
          0.1372656344373812,
          0.5432259873298914,
          0.16296779619896742,
          0.048890338859690234,
          0.014667101657907073,
          0.004400130497372122,
          2.6257692091862155,
          2.9972663829865906,
          1.717953658590953,
          0.5153860975772859,
          2.1186862764570202,
          2.263407329648654,
          1.3772887455683493,
          0.41318662367050485,
          0.12395598710115148,
          0.03718679613034545,
          0.011156038839103637,
          0.0033468116517310917,
          0.0010040434955193276,
          3.3924258847418645,
          5.246498026609384,
          5.761738439789789,
          6.668843089019348,
          7.597808964070358,
          6.557728496689643,
          8.226178032057012,
          9.161335176512234,
          10.297772921006157,
          13.407055375318869,
          13.203315679524586,
          12.757681172019414,
          13.763337447917834,
          16.0150324735395,
          16.524015807598087,
          16.58481656011861,
          18.18337159692919,
          22.537639993431323,
          24.642507290640168,
          24.88531918095525,
          24.17814592425619,
          24.463995817318114,
          26.42872852802938,
          31.65154489937771,
          33.48300535088823,
          34.833268185025254,
          38.32687549664506,
          40.49063990916155
         ],
         "yaxis": "y2"
        },
        {
         "hovertemplate": "variable=price_smoothed<br>iteration=9<br>t=%{x}<br>value=%{y}<extra></extra>",
         "legendgroup": "price_smoothed",
         "line": {
          "color": "rgb(221,132,82)",
          "dash": "solid"
         },
         "marker": {
          "symbol": "circle"
         },
         "mode": "lines",
         "name": "price_smoothed",
         "showlegend": false,
         "type": "scattergl",
         "x": [
          0,
          1,
          2,
          3,
          4,
          5,
          6,
          7,
          8,
          9,
          10,
          11,
          12,
          13,
          14,
          15,
          16,
          17,
          18,
          19,
          20,
          21,
          22,
          23,
          24,
          25,
          26,
          27,
          28,
          29,
          30,
          31,
          32,
          33,
          34,
          35,
          36,
          37,
          38,
          39,
          40,
          41,
          42,
          43,
          44,
          45,
          46,
          47,
          48,
          49,
          50,
          51,
          52,
          53,
          54,
          55,
          56,
          57,
          58,
          59,
          60,
          61,
          62,
          63,
          64,
          65,
          66,
          67,
          68,
          69,
          70,
          71,
          72,
          73,
          74,
          75,
          76,
          77,
          78,
          79,
          80,
          81,
          82,
          83,
          84,
          85,
          86,
          87,
          88,
          89,
          90,
          91,
          92,
          93,
          94,
          95,
          96,
          97,
          98,
          99,
          100
         ],
         "xaxis": "x",
         "y": [
          16,
          16.99493362881447,
          20.04071108632151,
          21.78805897745646,
          21.6354809746743,
          23.98774474225207,
          22.464605669387367,
          24.129385250604056,
          25.31775280344653,
          25.95319265051385,
          26.387847250530818,
          27.010942264169056,
          26.577653753722473,
          27.067103647546094,
          26.640430115977978,
          23.823145760254288,
          22.27717211756504,
          22.458408055390517,
          19.049411418935613,
          17.31674883081922,
          15.449972149142877,
          15.495633524827543,
          14.444172095766525,
          14.505664358300201,
          14.726493813837877,
          15.03605480163404,
          16.61126584489161,
          16.066792739507086,
          15.283824907905148,
          14.929397357461951,
          14.246217147192397,
          12.979074821751507,
          10.637963066921493,
          9.251009259411024,
          6.0386006790255315,
          1.8115802037076598,
          0.543474061112298,
          1.0889716841820807,
          2.276415802943726,
          4.27360907970723,
          4.604059888091827,
          6.864435887415898,
          6.286801806361536,
          5.295056710634494,
          7.1312715576938155,
          8.602261992622283,
          10.693492655060862,
          12.350659672688288,
          12.761280617040692,
          11.912355227332169,
          9.09792417440151,
          10.786075217438192,
          9.016002246272073,
          11.175929244815217,
          12.665933747288229,
          14.186365733197428,
          15.62198435404631,
          17.51267145456961,
          17.683425778325365,
          15.416219815882119,
          14.621826519154897,
          15.717734788973772,
          15.240476927816111,
          16.59712592397027,
          16.122084136718634,
          13.65429486160171,
          13.120209341747689,
          12.86962535613187,
          12.808199151333689,
          8.705747456918342,
          3.2083263570998817,
          2.9945872751152,
          1.5778051750624371,
          3.2904385898954756,
          6.084816155692211,
          5.953775962811825,
          4.490349827405411,
          5.07672092045146,
          4.687603282438207,
          5.68178194687735,
          7.525956292768111,
          5.752500427603218,
          3.3981972909779192,
          2.1246639536128553,
          0.6373991860838567,
          0.19121975582515705,
          0.05736592674754712,
          2.818558120250479,
          3.9904351908948232,
          3.4264499249964357,
          1.8229138671487108,
          0.5468741601446133,
          0.164062248043384,
          0.04921867441301521,
          0.014765602323904566,
          0.00442968069717137,
          0.0013289042091514114,
          0.41556031399074117,
          0.12466809419722237,
          2.4126217844183575,
          4.176807541762194
         ],
         "yaxis": "y"
        }
       ],
       "layout": {
        "annotations": [
         {
          "font": {},
          "showarrow": false,
          "text": "iteration=9",
          "textangle": 90,
          "x": 0.98,
          "xanchor": "left",
          "xref": "paper",
          "y": 0.0365,
          "yanchor": "middle",
          "yref": "paper"
         },
         {
          "font": {},
          "showarrow": false,
          "text": "iteration=8",
          "textangle": 90,
          "x": 0.98,
          "xanchor": "left",
          "xref": "paper",
          "y": 0.13949999999999999,
          "yanchor": "middle",
          "yref": "paper"
         },
         {
          "font": {},
          "showarrow": false,
          "text": "iteration=7",
          "textangle": 90,
          "x": 0.98,
          "xanchor": "left",
          "xref": "paper",
          "y": 0.2425,
          "yanchor": "middle",
          "yref": "paper"
         },
         {
          "font": {},
          "showarrow": false,
          "text": "iteration=6",
          "textangle": 90,
          "x": 0.98,
          "xanchor": "left",
          "xref": "paper",
          "y": 0.3454999999999999,
          "yanchor": "middle",
          "yref": "paper"
         },
         {
          "font": {},
          "showarrow": false,
          "text": "iteration=5",
          "textangle": 90,
          "x": 0.98,
          "xanchor": "left",
          "xref": "paper",
          "y": 0.4485,
          "yanchor": "middle",
          "yref": "paper"
         },
         {
          "font": {},
          "showarrow": false,
          "text": "iteration=4",
          "textangle": 90,
          "x": 0.98,
          "xanchor": "left",
          "xref": "paper",
          "y": 0.5515,
          "yanchor": "middle",
          "yref": "paper"
         },
         {
          "font": {},
          "showarrow": false,
          "text": "iteration=3",
          "textangle": 90,
          "x": 0.98,
          "xanchor": "left",
          "xref": "paper",
          "y": 0.6544999999999999,
          "yanchor": "middle",
          "yref": "paper"
         },
         {
          "font": {},
          "showarrow": false,
          "text": "iteration=2",
          "textangle": 90,
          "x": 0.98,
          "xanchor": "left",
          "xref": "paper",
          "y": 0.7575,
          "yanchor": "middle",
          "yref": "paper"
         },
         {
          "font": {},
          "showarrow": false,
          "text": "iteration=1",
          "textangle": 90,
          "x": 0.98,
          "xanchor": "left",
          "xref": "paper",
          "y": 0.8604999999999999,
          "yanchor": "middle",
          "yref": "paper"
         },
         {
          "font": {},
          "showarrow": false,
          "text": "iteration=0",
          "textangle": 90,
          "x": 0.98,
          "xanchor": "left",
          "xref": "paper",
          "y": 0.9634999999999999,
          "yanchor": "middle",
          "yref": "paper"
         }
        ],
        "height": 1200,
        "legend": {
         "title": {
          "text": "variable"
         },
         "tracegroupgap": 0
        },
        "margin": {
         "t": 60
        },
        "template": {
         "data": {
          "bar": [
           {
            "error_x": {
             "color": "rgb(36,36,36)"
            },
            "error_y": {
             "color": "rgb(36,36,36)"
            },
            "marker": {
             "line": {
              "color": "rgb(234,234,242)",
              "width": 0.5
             },
             "pattern": {
              "fillmode": "overlay",
              "size": 10,
              "solidity": 0.2
             }
            },
            "type": "bar"
           }
          ],
          "barpolar": [
           {
            "marker": {
             "line": {
              "color": "rgb(234,234,242)",
              "width": 0.5
             },
             "pattern": {
              "fillmode": "overlay",
              "size": 10,
              "solidity": 0.2
             }
            },
            "type": "barpolar"
           }
          ],
          "carpet": [
           {
            "aaxis": {
             "endlinecolor": "rgb(36,36,36)",
             "gridcolor": "white",
             "linecolor": "white",
             "minorgridcolor": "white",
             "startlinecolor": "rgb(36,36,36)"
            },
            "baxis": {
             "endlinecolor": "rgb(36,36,36)",
             "gridcolor": "white",
             "linecolor": "white",
             "minorgridcolor": "white",
             "startlinecolor": "rgb(36,36,36)"
            },
            "type": "carpet"
           }
          ],
          "choropleth": [
           {
            "colorbar": {
             "outlinewidth": 0,
             "tickcolor": "rgb(36,36,36)",
             "ticklen": 8,
             "ticks": "outside",
             "tickwidth": 2
            },
            "type": "choropleth"
           }
          ],
          "contour": [
           {
            "colorbar": {
             "outlinewidth": 0,
             "tickcolor": "rgb(36,36,36)",
             "ticklen": 8,
             "ticks": "outside",
             "tickwidth": 2
            },
            "colorscale": [
             [
              0,
              "rgb(2,4,25)"
             ],
             [
              0.06274509803921569,
              "rgb(24,15,41)"
             ],
             [
              0.12549019607843137,
              "rgb(47,23,57)"
             ],
             [
              0.18823529411764706,
              "rgb(71,28,72)"
             ],
             [
              0.25098039215686274,
              "rgb(97,30,82)"
             ],
             [
              0.3137254901960784,
              "rgb(123,30,89)"
             ],
             [
              0.3764705882352941,
              "rgb(150,27,91)"
             ],
             [
              0.4392156862745098,
              "rgb(177,22,88)"
             ],
             [
              0.5019607843137255,
              "rgb(203,26,79)"
             ],
             [
              0.5647058823529412,
              "rgb(223,47,67)"
             ],
             [
              0.6274509803921569,
              "rgb(236,76,61)"
             ],
             [
              0.6901960784313725,
              "rgb(242,107,73)"
             ],
             [
              0.7529411764705882,
              "rgb(244,135,95)"
             ],
             [
              0.8156862745098039,
              "rgb(245,162,122)"
             ],
             [
              0.8784313725490196,
              "rgb(246,188,153)"
             ],
             [
              0.9411764705882353,
              "rgb(247,212,187)"
             ],
             [
              1,
              "rgb(250,234,220)"
             ]
            ],
            "type": "contour"
           }
          ],
          "contourcarpet": [
           {
            "colorbar": {
             "outlinewidth": 0,
             "tickcolor": "rgb(36,36,36)",
             "ticklen": 8,
             "ticks": "outside",
             "tickwidth": 2
            },
            "type": "contourcarpet"
           }
          ],
          "heatmap": [
           {
            "colorbar": {
             "outlinewidth": 0,
             "tickcolor": "rgb(36,36,36)",
             "ticklen": 8,
             "ticks": "outside",
             "tickwidth": 2
            },
            "colorscale": [
             [
              0,
              "rgb(2,4,25)"
             ],
             [
              0.06274509803921569,
              "rgb(24,15,41)"
             ],
             [
              0.12549019607843137,
              "rgb(47,23,57)"
             ],
             [
              0.18823529411764706,
              "rgb(71,28,72)"
             ],
             [
              0.25098039215686274,
              "rgb(97,30,82)"
             ],
             [
              0.3137254901960784,
              "rgb(123,30,89)"
             ],
             [
              0.3764705882352941,
              "rgb(150,27,91)"
             ],
             [
              0.4392156862745098,
              "rgb(177,22,88)"
             ],
             [
              0.5019607843137255,
              "rgb(203,26,79)"
             ],
             [
              0.5647058823529412,
              "rgb(223,47,67)"
             ],
             [
              0.6274509803921569,
              "rgb(236,76,61)"
             ],
             [
              0.6901960784313725,
              "rgb(242,107,73)"
             ],
             [
              0.7529411764705882,
              "rgb(244,135,95)"
             ],
             [
              0.8156862745098039,
              "rgb(245,162,122)"
             ],
             [
              0.8784313725490196,
              "rgb(246,188,153)"
             ],
             [
              0.9411764705882353,
              "rgb(247,212,187)"
             ],
             [
              1,
              "rgb(250,234,220)"
             ]
            ],
            "type": "heatmap"
           }
          ],
          "heatmapgl": [
           {
            "colorbar": {
             "outlinewidth": 0,
             "tickcolor": "rgb(36,36,36)",
             "ticklen": 8,
             "ticks": "outside",
             "tickwidth": 2
            },
            "colorscale": [
             [
              0,
              "rgb(2,4,25)"
             ],
             [
              0.06274509803921569,
              "rgb(24,15,41)"
             ],
             [
              0.12549019607843137,
              "rgb(47,23,57)"
             ],
             [
              0.18823529411764706,
              "rgb(71,28,72)"
             ],
             [
              0.25098039215686274,
              "rgb(97,30,82)"
             ],
             [
              0.3137254901960784,
              "rgb(123,30,89)"
             ],
             [
              0.3764705882352941,
              "rgb(150,27,91)"
             ],
             [
              0.4392156862745098,
              "rgb(177,22,88)"
             ],
             [
              0.5019607843137255,
              "rgb(203,26,79)"
             ],
             [
              0.5647058823529412,
              "rgb(223,47,67)"
             ],
             [
              0.6274509803921569,
              "rgb(236,76,61)"
             ],
             [
              0.6901960784313725,
              "rgb(242,107,73)"
             ],
             [
              0.7529411764705882,
              "rgb(244,135,95)"
             ],
             [
              0.8156862745098039,
              "rgb(245,162,122)"
             ],
             [
              0.8784313725490196,
              "rgb(246,188,153)"
             ],
             [
              0.9411764705882353,
              "rgb(247,212,187)"
             ],
             [
              1,
              "rgb(250,234,220)"
             ]
            ],
            "type": "heatmapgl"
           }
          ],
          "histogram": [
           {
            "marker": {
             "pattern": {
              "fillmode": "overlay",
              "size": 10,
              "solidity": 0.2
             }
            },
            "type": "histogram"
           }
          ],
          "histogram2d": [
           {
            "colorbar": {
             "outlinewidth": 0,
             "tickcolor": "rgb(36,36,36)",
             "ticklen": 8,
             "ticks": "outside",
             "tickwidth": 2
            },
            "colorscale": [
             [
              0,
              "rgb(2,4,25)"
             ],
             [
              0.06274509803921569,
              "rgb(24,15,41)"
             ],
             [
              0.12549019607843137,
              "rgb(47,23,57)"
             ],
             [
              0.18823529411764706,
              "rgb(71,28,72)"
             ],
             [
              0.25098039215686274,
              "rgb(97,30,82)"
             ],
             [
              0.3137254901960784,
              "rgb(123,30,89)"
             ],
             [
              0.3764705882352941,
              "rgb(150,27,91)"
             ],
             [
              0.4392156862745098,
              "rgb(177,22,88)"
             ],
             [
              0.5019607843137255,
              "rgb(203,26,79)"
             ],
             [
              0.5647058823529412,
              "rgb(223,47,67)"
             ],
             [
              0.6274509803921569,
              "rgb(236,76,61)"
             ],
             [
              0.6901960784313725,
              "rgb(242,107,73)"
             ],
             [
              0.7529411764705882,
              "rgb(244,135,95)"
             ],
             [
              0.8156862745098039,
              "rgb(245,162,122)"
             ],
             [
              0.8784313725490196,
              "rgb(246,188,153)"
             ],
             [
              0.9411764705882353,
              "rgb(247,212,187)"
             ],
             [
              1,
              "rgb(250,234,220)"
             ]
            ],
            "type": "histogram2d"
           }
          ],
          "histogram2dcontour": [
           {
            "colorbar": {
             "outlinewidth": 0,
             "tickcolor": "rgb(36,36,36)",
             "ticklen": 8,
             "ticks": "outside",
             "tickwidth": 2
            },
            "colorscale": [
             [
              0,
              "rgb(2,4,25)"
             ],
             [
              0.06274509803921569,
              "rgb(24,15,41)"
             ],
             [
              0.12549019607843137,
              "rgb(47,23,57)"
             ],
             [
              0.18823529411764706,
              "rgb(71,28,72)"
             ],
             [
              0.25098039215686274,
              "rgb(97,30,82)"
             ],
             [
              0.3137254901960784,
              "rgb(123,30,89)"
             ],
             [
              0.3764705882352941,
              "rgb(150,27,91)"
             ],
             [
              0.4392156862745098,
              "rgb(177,22,88)"
             ],
             [
              0.5019607843137255,
              "rgb(203,26,79)"
             ],
             [
              0.5647058823529412,
              "rgb(223,47,67)"
             ],
             [
              0.6274509803921569,
              "rgb(236,76,61)"
             ],
             [
              0.6901960784313725,
              "rgb(242,107,73)"
             ],
             [
              0.7529411764705882,
              "rgb(244,135,95)"
             ],
             [
              0.8156862745098039,
              "rgb(245,162,122)"
             ],
             [
              0.8784313725490196,
              "rgb(246,188,153)"
             ],
             [
              0.9411764705882353,
              "rgb(247,212,187)"
             ],
             [
              1,
              "rgb(250,234,220)"
             ]
            ],
            "type": "histogram2dcontour"
           }
          ],
          "mesh3d": [
           {
            "colorbar": {
             "outlinewidth": 0,
             "tickcolor": "rgb(36,36,36)",
             "ticklen": 8,
             "ticks": "outside",
             "tickwidth": 2
            },
            "type": "mesh3d"
           }
          ],
          "parcoords": [
           {
            "line": {
             "colorbar": {
              "outlinewidth": 0,
              "tickcolor": "rgb(36,36,36)",
              "ticklen": 8,
              "ticks": "outside",
              "tickwidth": 2
             }
            },
            "type": "parcoords"
           }
          ],
          "pie": [
           {
            "automargin": true,
            "type": "pie"
           }
          ],
          "scatter": [
           {
            "fillpattern": {
             "fillmode": "overlay",
             "size": 10,
             "solidity": 0.2
            },
            "type": "scatter"
           }
          ],
          "scatter3d": [
           {
            "line": {
             "colorbar": {
              "outlinewidth": 0,
              "tickcolor": "rgb(36,36,36)",
              "ticklen": 8,
              "ticks": "outside",
              "tickwidth": 2
             }
            },
            "marker": {
             "colorbar": {
              "outlinewidth": 0,
              "tickcolor": "rgb(36,36,36)",
              "ticklen": 8,
              "ticks": "outside",
              "tickwidth": 2
             }
            },
            "type": "scatter3d"
           }
          ],
          "scattercarpet": [
           {
            "marker": {
             "colorbar": {
              "outlinewidth": 0,
              "tickcolor": "rgb(36,36,36)",
              "ticklen": 8,
              "ticks": "outside",
              "tickwidth": 2
             }
            },
            "type": "scattercarpet"
           }
          ],
          "scattergeo": [
           {
            "marker": {
             "colorbar": {
              "outlinewidth": 0,
              "tickcolor": "rgb(36,36,36)",
              "ticklen": 8,
              "ticks": "outside",
              "tickwidth": 2
             }
            },
            "type": "scattergeo"
           }
          ],
          "scattergl": [
           {
            "marker": {
             "colorbar": {
              "outlinewidth": 0,
              "tickcolor": "rgb(36,36,36)",
              "ticklen": 8,
              "ticks": "outside",
              "tickwidth": 2
             }
            },
            "type": "scattergl"
           }
          ],
          "scattermapbox": [
           {
            "marker": {
             "colorbar": {
              "outlinewidth": 0,
              "tickcolor": "rgb(36,36,36)",
              "ticklen": 8,
              "ticks": "outside",
              "tickwidth": 2
             }
            },
            "type": "scattermapbox"
           }
          ],
          "scatterpolar": [
           {
            "marker": {
             "colorbar": {
              "outlinewidth": 0,
              "tickcolor": "rgb(36,36,36)",
              "ticklen": 8,
              "ticks": "outside",
              "tickwidth": 2
             }
            },
            "type": "scatterpolar"
           }
          ],
          "scatterpolargl": [
           {
            "marker": {
             "colorbar": {
              "outlinewidth": 0,
              "tickcolor": "rgb(36,36,36)",
              "ticklen": 8,
              "ticks": "outside",
              "tickwidth": 2
             }
            },
            "type": "scatterpolargl"
           }
          ],
          "scatterternary": [
           {
            "marker": {
             "colorbar": {
              "outlinewidth": 0,
              "tickcolor": "rgb(36,36,36)",
              "ticklen": 8,
              "ticks": "outside",
              "tickwidth": 2
             }
            },
            "type": "scatterternary"
           }
          ],
          "surface": [
           {
            "colorbar": {
             "outlinewidth": 0,
             "tickcolor": "rgb(36,36,36)",
             "ticklen": 8,
             "ticks": "outside",
             "tickwidth": 2
            },
            "colorscale": [
             [
              0,
              "rgb(2,4,25)"
             ],
             [
              0.06274509803921569,
              "rgb(24,15,41)"
             ],
             [
              0.12549019607843137,
              "rgb(47,23,57)"
             ],
             [
              0.18823529411764706,
              "rgb(71,28,72)"
             ],
             [
              0.25098039215686274,
              "rgb(97,30,82)"
             ],
             [
              0.3137254901960784,
              "rgb(123,30,89)"
             ],
             [
              0.3764705882352941,
              "rgb(150,27,91)"
             ],
             [
              0.4392156862745098,
              "rgb(177,22,88)"
             ],
             [
              0.5019607843137255,
              "rgb(203,26,79)"
             ],
             [
              0.5647058823529412,
              "rgb(223,47,67)"
             ],
             [
              0.6274509803921569,
              "rgb(236,76,61)"
             ],
             [
              0.6901960784313725,
              "rgb(242,107,73)"
             ],
             [
              0.7529411764705882,
              "rgb(244,135,95)"
             ],
             [
              0.8156862745098039,
              "rgb(245,162,122)"
             ],
             [
              0.8784313725490196,
              "rgb(246,188,153)"
             ],
             [
              0.9411764705882353,
              "rgb(247,212,187)"
             ],
             [
              1,
              "rgb(250,234,220)"
             ]
            ],
            "type": "surface"
           }
          ],
          "table": [
           {
            "cells": {
             "fill": {
              "color": "rgb(231,231,240)"
             },
             "line": {
              "color": "white"
             }
            },
            "header": {
             "fill": {
              "color": "rgb(183,183,191)"
             },
             "line": {
              "color": "white"
             }
            },
            "type": "table"
           }
          ]
         },
         "layout": {
          "annotationdefaults": {
           "arrowcolor": "rgb(67,103,167)"
          },
          "autotypenumbers": "strict",
          "coloraxis": {
           "colorbar": {
            "outlinewidth": 0,
            "tickcolor": "rgb(36,36,36)",
            "ticklen": 8,
            "ticks": "outside",
            "tickwidth": 2
           }
          },
          "colorscale": {
           "sequential": [
            [
             0,
             "rgb(2,4,25)"
            ],
            [
             0.06274509803921569,
             "rgb(24,15,41)"
            ],
            [
             0.12549019607843137,
             "rgb(47,23,57)"
            ],
            [
             0.18823529411764706,
             "rgb(71,28,72)"
            ],
            [
             0.25098039215686274,
             "rgb(97,30,82)"
            ],
            [
             0.3137254901960784,
             "rgb(123,30,89)"
            ],
            [
             0.3764705882352941,
             "rgb(150,27,91)"
            ],
            [
             0.4392156862745098,
             "rgb(177,22,88)"
            ],
            [
             0.5019607843137255,
             "rgb(203,26,79)"
            ],
            [
             0.5647058823529412,
             "rgb(223,47,67)"
            ],
            [
             0.6274509803921569,
             "rgb(236,76,61)"
            ],
            [
             0.6901960784313725,
             "rgb(242,107,73)"
            ],
            [
             0.7529411764705882,
             "rgb(244,135,95)"
            ],
            [
             0.8156862745098039,
             "rgb(245,162,122)"
            ],
            [
             0.8784313725490196,
             "rgb(246,188,153)"
            ],
            [
             0.9411764705882353,
             "rgb(247,212,187)"
            ],
            [
             1,
             "rgb(250,234,220)"
            ]
           ],
           "sequentialminus": [
            [
             0,
             "rgb(2,4,25)"
            ],
            [
             0.06274509803921569,
             "rgb(24,15,41)"
            ],
            [
             0.12549019607843137,
             "rgb(47,23,57)"
            ],
            [
             0.18823529411764706,
             "rgb(71,28,72)"
            ],
            [
             0.25098039215686274,
             "rgb(97,30,82)"
            ],
            [
             0.3137254901960784,
             "rgb(123,30,89)"
            ],
            [
             0.3764705882352941,
             "rgb(150,27,91)"
            ],
            [
             0.4392156862745098,
             "rgb(177,22,88)"
            ],
            [
             0.5019607843137255,
             "rgb(203,26,79)"
            ],
            [
             0.5647058823529412,
             "rgb(223,47,67)"
            ],
            [
             0.6274509803921569,
             "rgb(236,76,61)"
            ],
            [
             0.6901960784313725,
             "rgb(242,107,73)"
            ],
            [
             0.7529411764705882,
             "rgb(244,135,95)"
            ],
            [
             0.8156862745098039,
             "rgb(245,162,122)"
            ],
            [
             0.8784313725490196,
             "rgb(246,188,153)"
            ],
            [
             0.9411764705882353,
             "rgb(247,212,187)"
            ],
            [
             1,
             "rgb(250,234,220)"
            ]
           ]
          },
          "colorway": [
           "rgb(76,114,176)",
           "rgb(221,132,82)",
           "rgb(85,168,104)",
           "rgb(196,78,82)",
           "rgb(129,114,179)",
           "rgb(147,120,96)",
           "rgb(218,139,195)",
           "rgb(140,140,140)",
           "rgb(204,185,116)",
           "rgb(100,181,205)"
          ],
          "font": {
           "color": "rgb(36,36,36)"
          },
          "geo": {
           "bgcolor": "white",
           "lakecolor": "white",
           "landcolor": "rgb(234,234,242)",
           "showlakes": true,
           "showland": true,
           "subunitcolor": "white"
          },
          "hoverlabel": {
           "align": "left"
          },
          "hovermode": "closest",
          "paper_bgcolor": "white",
          "plot_bgcolor": "rgb(234,234,242)",
          "polar": {
           "angularaxis": {
            "gridcolor": "white",
            "linecolor": "white",
            "showgrid": true,
            "ticks": ""
           },
           "bgcolor": "rgb(234,234,242)",
           "radialaxis": {
            "gridcolor": "white",
            "linecolor": "white",
            "showgrid": true,
            "ticks": ""
           }
          },
          "scene": {
           "xaxis": {
            "backgroundcolor": "rgb(234,234,242)",
            "gridcolor": "white",
            "gridwidth": 2,
            "linecolor": "white",
            "showbackground": true,
            "showgrid": true,
            "ticks": "",
            "zerolinecolor": "white"
           },
           "yaxis": {
            "backgroundcolor": "rgb(234,234,242)",
            "gridcolor": "white",
            "gridwidth": 2,
            "linecolor": "white",
            "showbackground": true,
            "showgrid": true,
            "ticks": "",
            "zerolinecolor": "white"
           },
           "zaxis": {
            "backgroundcolor": "rgb(234,234,242)",
            "gridcolor": "white",
            "gridwidth": 2,
            "linecolor": "white",
            "showbackground": true,
            "showgrid": true,
            "ticks": "",
            "zerolinecolor": "white"
           }
          },
          "shapedefaults": {
           "fillcolor": "rgb(67,103,167)",
           "line": {
            "width": 0
           },
           "opacity": 0.5
          },
          "ternary": {
           "aaxis": {
            "gridcolor": "white",
            "linecolor": "white",
            "showgrid": true,
            "ticks": ""
           },
           "baxis": {
            "gridcolor": "white",
            "linecolor": "white",
            "showgrid": true,
            "ticks": ""
           },
           "bgcolor": "rgb(234,234,242)",
           "caxis": {
            "gridcolor": "white",
            "linecolor": "white",
            "showgrid": true,
            "ticks": ""
           }
          },
          "xaxis": {
           "automargin": true,
           "gridcolor": "white",
           "linecolor": "white",
           "showgrid": true,
           "ticks": "",
           "title": {
            "standoff": 15
           },
           "zerolinecolor": "white"
          },
          "yaxis": {
           "automargin": true,
           "gridcolor": "white",
           "linecolor": "white",
           "showgrid": true,
           "ticks": "",
           "title": {
            "standoff": 15
           },
           "zerolinecolor": "white"
          }
         }
        },
        "width": 400,
        "xaxis": {
         "anchor": "y",
         "domain": [
          0,
          0.98
         ],
         "title": {
          "text": "t"
         }
        },
        "xaxis10": {
         "anchor": "y10",
         "domain": [
          0,
          0.98
         ],
         "matches": "x",
         "showticklabels": false
        },
        "xaxis2": {
         "anchor": "y2",
         "domain": [
          0,
          0.98
         ],
         "matches": "x",
         "showticklabels": false
        },
        "xaxis3": {
         "anchor": "y3",
         "domain": [
          0,
          0.98
         ],
         "matches": "x",
         "showticklabels": false
        },
        "xaxis4": {
         "anchor": "y4",
         "domain": [
          0,
          0.98
         ],
         "matches": "x",
         "showticklabels": false
        },
        "xaxis5": {
         "anchor": "y5",
         "domain": [
          0,
          0.98
         ],
         "matches": "x",
         "showticklabels": false
        },
        "xaxis6": {
         "anchor": "y6",
         "domain": [
          0,
          0.98
         ],
         "matches": "x",
         "showticklabels": false
        },
        "xaxis7": {
         "anchor": "y7",
         "domain": [
          0,
          0.98
         ],
         "matches": "x",
         "showticklabels": false
        },
        "xaxis8": {
         "anchor": "y8",
         "domain": [
          0,
          0.98
         ],
         "matches": "x",
         "showticklabels": false
        },
        "xaxis9": {
         "anchor": "y9",
         "domain": [
          0,
          0.98
         ],
         "matches": "x",
         "showticklabels": false
        },
        "yaxis": {
         "anchor": "x",
         "domain": [
          0,
          0.073
         ],
         "title": {
          "text": "value"
         }
        },
        "yaxis10": {
         "anchor": "x10",
         "domain": [
          0.9269999999999999,
          0.9999999999999999
         ],
         "matches": "y",
         "title": {
          "text": "value"
         }
        },
        "yaxis2": {
         "anchor": "x2",
         "domain": [
          0.103,
          0.176
         ],
         "matches": "y",
         "title": {
          "text": "value"
         }
        },
        "yaxis3": {
         "anchor": "x3",
         "domain": [
          0.206,
          0.27899999999999997
         ],
         "matches": "y",
         "title": {
          "text": "value"
         }
        },
        "yaxis4": {
         "anchor": "x4",
         "domain": [
          0.30899999999999994,
          0.38199999999999995
         ],
         "matches": "y",
         "title": {
          "text": "value"
         }
        },
        "yaxis5": {
         "anchor": "x5",
         "domain": [
          0.412,
          0.485
         ],
         "matches": "y",
         "title": {
          "text": "value"
         }
        },
        "yaxis6": {
         "anchor": "x6",
         "domain": [
          0.515,
          0.588
         ],
         "matches": "y",
         "title": {
          "text": "value"
         }
        },
        "yaxis7": {
         "anchor": "x7",
         "domain": [
          0.6179999999999999,
          0.6909999999999998
         ],
         "matches": "y",
         "title": {
          "text": "value"
         }
        },
        "yaxis8": {
         "anchor": "x8",
         "domain": [
          0.721,
          0.7939999999999999
         ],
         "matches": "y",
         "title": {
          "text": "value"
         }
        },
        "yaxis9": {
         "anchor": "x9",
         "domain": [
          0.824,
          0.8969999999999999
         ],
         "matches": "y",
         "title": {
          "text": "value"
         }
        }
       }
      }
     },
     "metadata": {},
     "output_type": "display_data"
    }
   ],
   "source": [
    "px.line(\n",
    "    data_frame=state_histories,\n",
    "    x=\"t\",\n",
    "    y=[\"price\", \"price_smoothed\"],\n",
    "    facet_row=\"iteration\",\n",
    "    height=1200,\n",
    "    width=400,\n",
    ")\n",
    "# px.line(data_frame=state_histories, x=\"t\", y=\"price\", facet_row=\"iteration\", height=1200)"
   ]
  },
  {
   "cell_type": "code",
   "execution_count": null,
   "metadata": {},
   "outputs": [],
   "source": []
  }
 ],
 "metadata": {
  "kernelspec": {
   "display_name": "Python 3",
   "language": "python",
   "name": "python3"
  },
  "language_info": {
   "codemirror_mode": {
    "name": "ipython",
    "version": 3
   },
   "file_extension": ".py",
   "mimetype": "text/x-python",
   "name": "python",
   "nbconvert_exporter": "python",
   "pygments_lexer": "ipython3",
   "version": "3.12.0"
  }
 },
 "nbformat": 4,
 "nbformat_minor": 2
}
